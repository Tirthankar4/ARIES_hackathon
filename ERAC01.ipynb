{
  "nbformat": 4,
  "nbformat_minor": 0,
  "metadata": {
    "colab": {
      "provenance": [],
      "gpuType": "T4"
    },
    "kernelspec": {
      "name": "python3",
      "display_name": "Python 3"
    },
    "language_info": {
      "name": "python"
    },
    "accelerator": "GPU"
  },
  "cells": [
    {
      "cell_type": "code",
      "source": [
        "! pip install PyPDF2"
      ],
      "metadata": {
        "colab": {
          "base_uri": "https://localhost:8080/"
        },
        "id": "LNqufIczR4xD",
        "outputId": "0111779f-d352-4ae1-d571-95be40a94c13"
      },
      "execution_count": 1,
      "outputs": [
        {
          "output_type": "stream",
          "name": "stdout",
          "text": [
            "Collecting PyPDF2\n",
            "  Downloading pypdf2-3.0.1-py3-none-any.whl.metadata (6.8 kB)\n",
            "Downloading pypdf2-3.0.1-py3-none-any.whl (232 kB)\n",
            "\u001b[2K   \u001b[90m━━━━━━━━━━━━━━━━━━━━━━━━━━━━━━━━━━━━━━━━\u001b[0m \u001b[32m232.6/232.6 kB\u001b[0m \u001b[31m3.9 MB/s\u001b[0m eta \u001b[36m0:00:00\u001b[0m\n",
            "\u001b[?25hInstalling collected packages: PyPDF2\n",
            "Successfully installed PyPDF2-3.0.1\n"
          ]
        }
      ]
    },
    {
      "cell_type": "code",
      "source": [
        "!pip install -U langchain-community"
      ],
      "metadata": {
        "colab": {
          "base_uri": "https://localhost:8080/"
        },
        "id": "qCVdQa1XXIC8",
        "outputId": "1ffa800a-0d28-4290-c69f-b64a416f4670"
      },
      "execution_count": 2,
      "outputs": [
        {
          "output_type": "stream",
          "name": "stdout",
          "text": [
            "Collecting langchain-community\n",
            "  Downloading langchain_community-0.3.21-py3-none-any.whl.metadata (2.4 kB)\n",
            "Requirement already satisfied: langchain-core<1.0.0,>=0.3.51 in /usr/local/lib/python3.11/dist-packages (from langchain-community) (0.3.51)\n",
            "Requirement already satisfied: langchain<1.0.0,>=0.3.23 in /usr/local/lib/python3.11/dist-packages (from langchain-community) (0.3.23)\n",
            "Requirement already satisfied: SQLAlchemy<3,>=1.4 in /usr/local/lib/python3.11/dist-packages (from langchain-community) (2.0.40)\n",
            "Requirement already satisfied: requests<3,>=2 in /usr/local/lib/python3.11/dist-packages (from langchain-community) (2.32.3)\n",
            "Requirement already satisfied: PyYAML>=5.3 in /usr/local/lib/python3.11/dist-packages (from langchain-community) (6.0.2)\n",
            "Requirement already satisfied: aiohttp<4.0.0,>=3.8.3 in /usr/local/lib/python3.11/dist-packages (from langchain-community) (3.11.15)\n",
            "Requirement already satisfied: tenacity!=8.4.0,<10,>=8.1.0 in /usr/local/lib/python3.11/dist-packages (from langchain-community) (9.1.2)\n",
            "Collecting dataclasses-json<0.7,>=0.5.7 (from langchain-community)\n",
            "  Downloading dataclasses_json-0.6.7-py3-none-any.whl.metadata (25 kB)\n",
            "Collecting pydantic-settings<3.0.0,>=2.4.0 (from langchain-community)\n",
            "  Downloading pydantic_settings-2.8.1-py3-none-any.whl.metadata (3.5 kB)\n",
            "Requirement already satisfied: langsmith<0.4,>=0.1.125 in /usr/local/lib/python3.11/dist-packages (from langchain-community) (0.3.28)\n",
            "Collecting httpx-sse<1.0.0,>=0.4.0 (from langchain-community)\n",
            "  Downloading httpx_sse-0.4.0-py3-none-any.whl.metadata (9.0 kB)\n",
            "Requirement already satisfied: numpy<3,>=1.26.2 in /usr/local/lib/python3.11/dist-packages (from langchain-community) (2.0.2)\n",
            "Requirement already satisfied: aiohappyeyeballs>=2.3.0 in /usr/local/lib/python3.11/dist-packages (from aiohttp<4.0.0,>=3.8.3->langchain-community) (2.6.1)\n",
            "Requirement already satisfied: aiosignal>=1.1.2 in /usr/local/lib/python3.11/dist-packages (from aiohttp<4.0.0,>=3.8.3->langchain-community) (1.3.2)\n",
            "Requirement already satisfied: attrs>=17.3.0 in /usr/local/lib/python3.11/dist-packages (from aiohttp<4.0.0,>=3.8.3->langchain-community) (25.3.0)\n",
            "Requirement already satisfied: frozenlist>=1.1.1 in /usr/local/lib/python3.11/dist-packages (from aiohttp<4.0.0,>=3.8.3->langchain-community) (1.5.0)\n",
            "Requirement already satisfied: multidict<7.0,>=4.5 in /usr/local/lib/python3.11/dist-packages (from aiohttp<4.0.0,>=3.8.3->langchain-community) (6.4.2)\n",
            "Requirement already satisfied: propcache>=0.2.0 in /usr/local/lib/python3.11/dist-packages (from aiohttp<4.0.0,>=3.8.3->langchain-community) (0.3.1)\n",
            "Requirement already satisfied: yarl<2.0,>=1.17.0 in /usr/local/lib/python3.11/dist-packages (from aiohttp<4.0.0,>=3.8.3->langchain-community) (1.19.0)\n",
            "Collecting marshmallow<4.0.0,>=3.18.0 (from dataclasses-json<0.7,>=0.5.7->langchain-community)\n",
            "  Downloading marshmallow-3.26.1-py3-none-any.whl.metadata (7.3 kB)\n",
            "Collecting typing-inspect<1,>=0.4.0 (from dataclasses-json<0.7,>=0.5.7->langchain-community)\n",
            "  Downloading typing_inspect-0.9.0-py3-none-any.whl.metadata (1.5 kB)\n",
            "Requirement already satisfied: langchain-text-splitters<1.0.0,>=0.3.8 in /usr/local/lib/python3.11/dist-packages (from langchain<1.0.0,>=0.3.23->langchain-community) (0.3.8)\n",
            "Requirement already satisfied: pydantic<3.0.0,>=2.7.4 in /usr/local/lib/python3.11/dist-packages (from langchain<1.0.0,>=0.3.23->langchain-community) (2.11.3)\n",
            "Requirement already satisfied: jsonpatch<2.0,>=1.33 in /usr/local/lib/python3.11/dist-packages (from langchain-core<1.0.0,>=0.3.51->langchain-community) (1.33)\n",
            "Requirement already satisfied: packaging<25,>=23.2 in /usr/local/lib/python3.11/dist-packages (from langchain-core<1.0.0,>=0.3.51->langchain-community) (24.2)\n",
            "Requirement already satisfied: typing-extensions>=4.7 in /usr/local/lib/python3.11/dist-packages (from langchain-core<1.0.0,>=0.3.51->langchain-community) (4.13.1)\n",
            "Requirement already satisfied: httpx<1,>=0.23.0 in /usr/local/lib/python3.11/dist-packages (from langsmith<0.4,>=0.1.125->langchain-community) (0.28.1)\n",
            "Requirement already satisfied: orjson<4.0.0,>=3.9.14 in /usr/local/lib/python3.11/dist-packages (from langsmith<0.4,>=0.1.125->langchain-community) (3.10.16)\n",
            "Requirement already satisfied: requests-toolbelt<2.0.0,>=1.0.0 in /usr/local/lib/python3.11/dist-packages (from langsmith<0.4,>=0.1.125->langchain-community) (1.0.0)\n",
            "Requirement already satisfied: zstandard<0.24.0,>=0.23.0 in /usr/local/lib/python3.11/dist-packages (from langsmith<0.4,>=0.1.125->langchain-community) (0.23.0)\n",
            "Collecting python-dotenv>=0.21.0 (from pydantic-settings<3.0.0,>=2.4.0->langchain-community)\n",
            "  Downloading python_dotenv-1.1.0-py3-none-any.whl.metadata (24 kB)\n",
            "Requirement already satisfied: charset-normalizer<4,>=2 in /usr/local/lib/python3.11/dist-packages (from requests<3,>=2->langchain-community) (3.4.1)\n",
            "Requirement already satisfied: idna<4,>=2.5 in /usr/local/lib/python3.11/dist-packages (from requests<3,>=2->langchain-community) (3.10)\n",
            "Requirement already satisfied: urllib3<3,>=1.21.1 in /usr/local/lib/python3.11/dist-packages (from requests<3,>=2->langchain-community) (2.3.0)\n",
            "Requirement already satisfied: certifi>=2017.4.17 in /usr/local/lib/python3.11/dist-packages (from requests<3,>=2->langchain-community) (2025.1.31)\n",
            "Requirement already satisfied: greenlet>=1 in /usr/local/lib/python3.11/dist-packages (from SQLAlchemy<3,>=1.4->langchain-community) (3.1.1)\n",
            "Requirement already satisfied: anyio in /usr/local/lib/python3.11/dist-packages (from httpx<1,>=0.23.0->langsmith<0.4,>=0.1.125->langchain-community) (4.9.0)\n",
            "Requirement already satisfied: httpcore==1.* in /usr/local/lib/python3.11/dist-packages (from httpx<1,>=0.23.0->langsmith<0.4,>=0.1.125->langchain-community) (1.0.7)\n",
            "Requirement already satisfied: h11<0.15,>=0.13 in /usr/local/lib/python3.11/dist-packages (from httpcore==1.*->httpx<1,>=0.23.0->langsmith<0.4,>=0.1.125->langchain-community) (0.14.0)\n",
            "Requirement already satisfied: jsonpointer>=1.9 in /usr/local/lib/python3.11/dist-packages (from jsonpatch<2.0,>=1.33->langchain-core<1.0.0,>=0.3.51->langchain-community) (3.0.0)\n",
            "Requirement already satisfied: annotated-types>=0.6.0 in /usr/local/lib/python3.11/dist-packages (from pydantic<3.0.0,>=2.7.4->langchain<1.0.0,>=0.3.23->langchain-community) (0.7.0)\n",
            "Requirement already satisfied: pydantic-core==2.33.1 in /usr/local/lib/python3.11/dist-packages (from pydantic<3.0.0,>=2.7.4->langchain<1.0.0,>=0.3.23->langchain-community) (2.33.1)\n",
            "Requirement already satisfied: typing-inspection>=0.4.0 in /usr/local/lib/python3.11/dist-packages (from pydantic<3.0.0,>=2.7.4->langchain<1.0.0,>=0.3.23->langchain-community) (0.4.0)\n",
            "Collecting mypy-extensions>=0.3.0 (from typing-inspect<1,>=0.4.0->dataclasses-json<0.7,>=0.5.7->langchain-community)\n",
            "  Downloading mypy_extensions-1.0.0-py3-none-any.whl.metadata (1.1 kB)\n",
            "Requirement already satisfied: sniffio>=1.1 in /usr/local/lib/python3.11/dist-packages (from anyio->httpx<1,>=0.23.0->langsmith<0.4,>=0.1.125->langchain-community) (1.3.1)\n",
            "Downloading langchain_community-0.3.21-py3-none-any.whl (2.5 MB)\n",
            "\u001b[2K   \u001b[90m━━━━━━━━━━━━━━━━━━━━━━━━━━━━━━━━━━━━━━━━\u001b[0m \u001b[32m2.5/2.5 MB\u001b[0m \u001b[31m27.5 MB/s\u001b[0m eta \u001b[36m0:00:00\u001b[0m\n",
            "\u001b[?25hDownloading dataclasses_json-0.6.7-py3-none-any.whl (28 kB)\n",
            "Downloading httpx_sse-0.4.0-py3-none-any.whl (7.8 kB)\n",
            "Downloading pydantic_settings-2.8.1-py3-none-any.whl (30 kB)\n",
            "Downloading marshmallow-3.26.1-py3-none-any.whl (50 kB)\n",
            "\u001b[2K   \u001b[90m━━━━━━━━━━━━━━━━━━━━━━━━━━━━━━━━━━━━━━━━\u001b[0m \u001b[32m50.9/50.9 kB\u001b[0m \u001b[31m4.8 MB/s\u001b[0m eta \u001b[36m0:00:00\u001b[0m\n",
            "\u001b[?25hDownloading python_dotenv-1.1.0-py3-none-any.whl (20 kB)\n",
            "Downloading typing_inspect-0.9.0-py3-none-any.whl (8.8 kB)\n",
            "Downloading mypy_extensions-1.0.0-py3-none-any.whl (4.7 kB)\n",
            "Installing collected packages: python-dotenv, mypy-extensions, marshmallow, httpx-sse, typing-inspect, pydantic-settings, dataclasses-json, langchain-community\n",
            "Successfully installed dataclasses-json-0.6.7 httpx-sse-0.4.0 langchain-community-0.3.21 marshmallow-3.26.1 mypy-extensions-1.0.0 pydantic-settings-2.8.1 python-dotenv-1.1.0 typing-inspect-0.9.0\n"
          ]
        }
      ]
    },
    {
      "cell_type": "code",
      "source": [
        "import pandas as pd\n",
        "\n",
        "paper_names = [f\"P{str(i).zfill(3)}.pdf\" for i in range(1, 16)]\n",
        "labels = [\"Non-Publishable\"] * 5 + [\"Publishable\"] * 10\n",
        "\n",
        "df = pd.DataFrame({\"Paper_Name\": paper_names, \"Label\": labels})\n",
        "df.to_csv(\"labeled_papers.csv\", index=False)\n",
        "\n",
        "print(\"✅ labeled_papers.csv created!\")\n"
      ],
      "metadata": {
        "colab": {
          "base_uri": "https://localhost:8080/"
        },
        "id": "oAJMXv8hUZly",
        "outputId": "e8efc907-44f1-46be-9e65-18f7714f99be"
      },
      "execution_count": 3,
      "outputs": [
        {
          "output_type": "stream",
          "name": "stdout",
          "text": [
            "✅ labeled_papers.csv created!\n"
          ]
        }
      ]
    },
    {
      "cell_type": "code",
      "source": [
        "from google.colab import files\n",
        "import zipfile\n",
        "import os\n",
        "\n",
        "# Upload the zip file\n",
        "uploaded = files.upload()\n",
        "\n",
        "# Create the 'papers' folder\n",
        "os.makedirs(\"papers\", exist_ok=True)\n",
        "\n",
        "# Unzip the uploaded file into papers/\n",
        "for fname in uploaded.keys():\n",
        "    with zipfile.ZipFile(fname, 'r') as zip_ref:\n",
        "        zip_ref.extractall(\"papers\")\n",
        "\n",
        "print(\"✅ All PDFs extracted to /papers\")\n"
      ],
      "metadata": {
        "colab": {
          "base_uri": "https://localhost:8080/",
          "height": 108
        },
        "id": "xL5fICgSUct8",
        "outputId": "2715eec7-a3b0-44e0-9c2e-64abe6b15c5c"
      },
      "execution_count": 4,
      "outputs": [
        {
          "output_type": "display_data",
          "data": {
            "text/plain": [
              "<IPython.core.display.HTML object>"
            ],
            "text/html": [
              "\n",
              "     <input type=\"file\" id=\"files-a9a1c465-5da5-4c80-b53a-1ce0fe58583e\" name=\"files[]\" multiple disabled\n",
              "        style=\"border:none\" />\n",
              "     <output id=\"result-a9a1c465-5da5-4c80-b53a-1ce0fe58583e\">\n",
              "      Upload widget is only available when the cell has been executed in the\n",
              "      current browser session. Please rerun this cell to enable.\n",
              "      </output>\n",
              "      <script>// Copyright 2017 Google LLC\n",
              "//\n",
              "// Licensed under the Apache License, Version 2.0 (the \"License\");\n",
              "// you may not use this file except in compliance with the License.\n",
              "// You may obtain a copy of the License at\n",
              "//\n",
              "//      http://www.apache.org/licenses/LICENSE-2.0\n",
              "//\n",
              "// Unless required by applicable law or agreed to in writing, software\n",
              "// distributed under the License is distributed on an \"AS IS\" BASIS,\n",
              "// WITHOUT WARRANTIES OR CONDITIONS OF ANY KIND, either express or implied.\n",
              "// See the License for the specific language governing permissions and\n",
              "// limitations under the License.\n",
              "\n",
              "/**\n",
              " * @fileoverview Helpers for google.colab Python module.\n",
              " */\n",
              "(function(scope) {\n",
              "function span(text, styleAttributes = {}) {\n",
              "  const element = document.createElement('span');\n",
              "  element.textContent = text;\n",
              "  for (const key of Object.keys(styleAttributes)) {\n",
              "    element.style[key] = styleAttributes[key];\n",
              "  }\n",
              "  return element;\n",
              "}\n",
              "\n",
              "// Max number of bytes which will be uploaded at a time.\n",
              "const MAX_PAYLOAD_SIZE = 100 * 1024;\n",
              "\n",
              "function _uploadFiles(inputId, outputId) {\n",
              "  const steps = uploadFilesStep(inputId, outputId);\n",
              "  const outputElement = document.getElementById(outputId);\n",
              "  // Cache steps on the outputElement to make it available for the next call\n",
              "  // to uploadFilesContinue from Python.\n",
              "  outputElement.steps = steps;\n",
              "\n",
              "  return _uploadFilesContinue(outputId);\n",
              "}\n",
              "\n",
              "// This is roughly an async generator (not supported in the browser yet),\n",
              "// where there are multiple asynchronous steps and the Python side is going\n",
              "// to poll for completion of each step.\n",
              "// This uses a Promise to block the python side on completion of each step,\n",
              "// then passes the result of the previous step as the input to the next step.\n",
              "function _uploadFilesContinue(outputId) {\n",
              "  const outputElement = document.getElementById(outputId);\n",
              "  const steps = outputElement.steps;\n",
              "\n",
              "  const next = steps.next(outputElement.lastPromiseValue);\n",
              "  return Promise.resolve(next.value.promise).then((value) => {\n",
              "    // Cache the last promise value to make it available to the next\n",
              "    // step of the generator.\n",
              "    outputElement.lastPromiseValue = value;\n",
              "    return next.value.response;\n",
              "  });\n",
              "}\n",
              "\n",
              "/**\n",
              " * Generator function which is called between each async step of the upload\n",
              " * process.\n",
              " * @param {string} inputId Element ID of the input file picker element.\n",
              " * @param {string} outputId Element ID of the output display.\n",
              " * @return {!Iterable<!Object>} Iterable of next steps.\n",
              " */\n",
              "function* uploadFilesStep(inputId, outputId) {\n",
              "  const inputElement = document.getElementById(inputId);\n",
              "  inputElement.disabled = false;\n",
              "\n",
              "  const outputElement = document.getElementById(outputId);\n",
              "  outputElement.innerHTML = '';\n",
              "\n",
              "  const pickedPromise = new Promise((resolve) => {\n",
              "    inputElement.addEventListener('change', (e) => {\n",
              "      resolve(e.target.files);\n",
              "    });\n",
              "  });\n",
              "\n",
              "  const cancel = document.createElement('button');\n",
              "  inputElement.parentElement.appendChild(cancel);\n",
              "  cancel.textContent = 'Cancel upload';\n",
              "  const cancelPromise = new Promise((resolve) => {\n",
              "    cancel.onclick = () => {\n",
              "      resolve(null);\n",
              "    };\n",
              "  });\n",
              "\n",
              "  // Wait for the user to pick the files.\n",
              "  const files = yield {\n",
              "    promise: Promise.race([pickedPromise, cancelPromise]),\n",
              "    response: {\n",
              "      action: 'starting',\n",
              "    }\n",
              "  };\n",
              "\n",
              "  cancel.remove();\n",
              "\n",
              "  // Disable the input element since further picks are not allowed.\n",
              "  inputElement.disabled = true;\n",
              "\n",
              "  if (!files) {\n",
              "    return {\n",
              "      response: {\n",
              "        action: 'complete',\n",
              "      }\n",
              "    };\n",
              "  }\n",
              "\n",
              "  for (const file of files) {\n",
              "    const li = document.createElement('li');\n",
              "    li.append(span(file.name, {fontWeight: 'bold'}));\n",
              "    li.append(span(\n",
              "        `(${file.type || 'n/a'}) - ${file.size} bytes, ` +\n",
              "        `last modified: ${\n",
              "            file.lastModifiedDate ? file.lastModifiedDate.toLocaleDateString() :\n",
              "                                    'n/a'} - `));\n",
              "    const percent = span('0% done');\n",
              "    li.appendChild(percent);\n",
              "\n",
              "    outputElement.appendChild(li);\n",
              "\n",
              "    const fileDataPromise = new Promise((resolve) => {\n",
              "      const reader = new FileReader();\n",
              "      reader.onload = (e) => {\n",
              "        resolve(e.target.result);\n",
              "      };\n",
              "      reader.readAsArrayBuffer(file);\n",
              "    });\n",
              "    // Wait for the data to be ready.\n",
              "    let fileData = yield {\n",
              "      promise: fileDataPromise,\n",
              "      response: {\n",
              "        action: 'continue',\n",
              "      }\n",
              "    };\n",
              "\n",
              "    // Use a chunked sending to avoid message size limits. See b/62115660.\n",
              "    let position = 0;\n",
              "    do {\n",
              "      const length = Math.min(fileData.byteLength - position, MAX_PAYLOAD_SIZE);\n",
              "      const chunk = new Uint8Array(fileData, position, length);\n",
              "      position += length;\n",
              "\n",
              "      const base64 = btoa(String.fromCharCode.apply(null, chunk));\n",
              "      yield {\n",
              "        response: {\n",
              "          action: 'append',\n",
              "          file: file.name,\n",
              "          data: base64,\n",
              "        },\n",
              "      };\n",
              "\n",
              "      let percentDone = fileData.byteLength === 0 ?\n",
              "          100 :\n",
              "          Math.round((position / fileData.byteLength) * 100);\n",
              "      percent.textContent = `${percentDone}% done`;\n",
              "\n",
              "    } while (position < fileData.byteLength);\n",
              "  }\n",
              "\n",
              "  // All done.\n",
              "  yield {\n",
              "    response: {\n",
              "      action: 'complete',\n",
              "    }\n",
              "  };\n",
              "}\n",
              "\n",
              "scope.google = scope.google || {};\n",
              "scope.google.colab = scope.google.colab || {};\n",
              "scope.google.colab._files = {\n",
              "  _uploadFiles,\n",
              "  _uploadFilesContinue,\n",
              "};\n",
              "})(self);\n",
              "</script> "
            ]
          },
          "metadata": {}
        },
        {
          "output_type": "stream",
          "name": "stdout",
          "text": [
            "Saving Papers-20250417T102120Z-001.zip to Papers-20250417T102120Z-001.zip\n",
            "✅ All PDFs extracted to /papers\n"
          ]
        }
      ]
    },
    {
      "cell_type": "code",
      "source": [
        "from google.colab import files\n",
        "import zipfile\n",
        "import os\n",
        "\n",
        "# Upload the zip file\n",
        "uploaded = files.upload()\n",
        "\n",
        "# Create the 'papers' folder\n",
        "os.makedirs(\"refrence\", exist_ok=True)\n",
        "\n",
        "# Unzip the uploaded file into papers/\n",
        "for fname in uploaded.keys():\n",
        "    with zipfile.ZipFile(fname, 'r') as zip_ref:\n",
        "        zip_ref.extractall(\"refernce\")\n",
        "\n",
        "print(\"✅ All PDFs extracted to /reference_papers\")"
      ],
      "metadata": {
        "colab": {
          "base_uri": "https://localhost:8080/",
          "height": 108
        },
        "id": "w68SqLdRjsBu",
        "outputId": "b2841b3b-3928-4f3c-c2ab-c78491a4c343"
      },
      "execution_count": 5,
      "outputs": [
        {
          "output_type": "display_data",
          "data": {
            "text/plain": [
              "<IPython.core.display.HTML object>"
            ],
            "text/html": [
              "\n",
              "     <input type=\"file\" id=\"files-36e3ef4b-3f1c-460b-ac92-c5cb4efc8241\" name=\"files[]\" multiple disabled\n",
              "        style=\"border:none\" />\n",
              "     <output id=\"result-36e3ef4b-3f1c-460b-ac92-c5cb4efc8241\">\n",
              "      Upload widget is only available when the cell has been executed in the\n",
              "      current browser session. Please rerun this cell to enable.\n",
              "      </output>\n",
              "      <script>// Copyright 2017 Google LLC\n",
              "//\n",
              "// Licensed under the Apache License, Version 2.0 (the \"License\");\n",
              "// you may not use this file except in compliance with the License.\n",
              "// You may obtain a copy of the License at\n",
              "//\n",
              "//      http://www.apache.org/licenses/LICENSE-2.0\n",
              "//\n",
              "// Unless required by applicable law or agreed to in writing, software\n",
              "// distributed under the License is distributed on an \"AS IS\" BASIS,\n",
              "// WITHOUT WARRANTIES OR CONDITIONS OF ANY KIND, either express or implied.\n",
              "// See the License for the specific language governing permissions and\n",
              "// limitations under the License.\n",
              "\n",
              "/**\n",
              " * @fileoverview Helpers for google.colab Python module.\n",
              " */\n",
              "(function(scope) {\n",
              "function span(text, styleAttributes = {}) {\n",
              "  const element = document.createElement('span');\n",
              "  element.textContent = text;\n",
              "  for (const key of Object.keys(styleAttributes)) {\n",
              "    element.style[key] = styleAttributes[key];\n",
              "  }\n",
              "  return element;\n",
              "}\n",
              "\n",
              "// Max number of bytes which will be uploaded at a time.\n",
              "const MAX_PAYLOAD_SIZE = 100 * 1024;\n",
              "\n",
              "function _uploadFiles(inputId, outputId) {\n",
              "  const steps = uploadFilesStep(inputId, outputId);\n",
              "  const outputElement = document.getElementById(outputId);\n",
              "  // Cache steps on the outputElement to make it available for the next call\n",
              "  // to uploadFilesContinue from Python.\n",
              "  outputElement.steps = steps;\n",
              "\n",
              "  return _uploadFilesContinue(outputId);\n",
              "}\n",
              "\n",
              "// This is roughly an async generator (not supported in the browser yet),\n",
              "// where there are multiple asynchronous steps and the Python side is going\n",
              "// to poll for completion of each step.\n",
              "// This uses a Promise to block the python side on completion of each step,\n",
              "// then passes the result of the previous step as the input to the next step.\n",
              "function _uploadFilesContinue(outputId) {\n",
              "  const outputElement = document.getElementById(outputId);\n",
              "  const steps = outputElement.steps;\n",
              "\n",
              "  const next = steps.next(outputElement.lastPromiseValue);\n",
              "  return Promise.resolve(next.value.promise).then((value) => {\n",
              "    // Cache the last promise value to make it available to the next\n",
              "    // step of the generator.\n",
              "    outputElement.lastPromiseValue = value;\n",
              "    return next.value.response;\n",
              "  });\n",
              "}\n",
              "\n",
              "/**\n",
              " * Generator function which is called between each async step of the upload\n",
              " * process.\n",
              " * @param {string} inputId Element ID of the input file picker element.\n",
              " * @param {string} outputId Element ID of the output display.\n",
              " * @return {!Iterable<!Object>} Iterable of next steps.\n",
              " */\n",
              "function* uploadFilesStep(inputId, outputId) {\n",
              "  const inputElement = document.getElementById(inputId);\n",
              "  inputElement.disabled = false;\n",
              "\n",
              "  const outputElement = document.getElementById(outputId);\n",
              "  outputElement.innerHTML = '';\n",
              "\n",
              "  const pickedPromise = new Promise((resolve) => {\n",
              "    inputElement.addEventListener('change', (e) => {\n",
              "      resolve(e.target.files);\n",
              "    });\n",
              "  });\n",
              "\n",
              "  const cancel = document.createElement('button');\n",
              "  inputElement.parentElement.appendChild(cancel);\n",
              "  cancel.textContent = 'Cancel upload';\n",
              "  const cancelPromise = new Promise((resolve) => {\n",
              "    cancel.onclick = () => {\n",
              "      resolve(null);\n",
              "    };\n",
              "  });\n",
              "\n",
              "  // Wait for the user to pick the files.\n",
              "  const files = yield {\n",
              "    promise: Promise.race([pickedPromise, cancelPromise]),\n",
              "    response: {\n",
              "      action: 'starting',\n",
              "    }\n",
              "  };\n",
              "\n",
              "  cancel.remove();\n",
              "\n",
              "  // Disable the input element since further picks are not allowed.\n",
              "  inputElement.disabled = true;\n",
              "\n",
              "  if (!files) {\n",
              "    return {\n",
              "      response: {\n",
              "        action: 'complete',\n",
              "      }\n",
              "    };\n",
              "  }\n",
              "\n",
              "  for (const file of files) {\n",
              "    const li = document.createElement('li');\n",
              "    li.append(span(file.name, {fontWeight: 'bold'}));\n",
              "    li.append(span(\n",
              "        `(${file.type || 'n/a'}) - ${file.size} bytes, ` +\n",
              "        `last modified: ${\n",
              "            file.lastModifiedDate ? file.lastModifiedDate.toLocaleDateString() :\n",
              "                                    'n/a'} - `));\n",
              "    const percent = span('0% done');\n",
              "    li.appendChild(percent);\n",
              "\n",
              "    outputElement.appendChild(li);\n",
              "\n",
              "    const fileDataPromise = new Promise((resolve) => {\n",
              "      const reader = new FileReader();\n",
              "      reader.onload = (e) => {\n",
              "        resolve(e.target.result);\n",
              "      };\n",
              "      reader.readAsArrayBuffer(file);\n",
              "    });\n",
              "    // Wait for the data to be ready.\n",
              "    let fileData = yield {\n",
              "      promise: fileDataPromise,\n",
              "      response: {\n",
              "        action: 'continue',\n",
              "      }\n",
              "    };\n",
              "\n",
              "    // Use a chunked sending to avoid message size limits. See b/62115660.\n",
              "    let position = 0;\n",
              "    do {\n",
              "      const length = Math.min(fileData.byteLength - position, MAX_PAYLOAD_SIZE);\n",
              "      const chunk = new Uint8Array(fileData, position, length);\n",
              "      position += length;\n",
              "\n",
              "      const base64 = btoa(String.fromCharCode.apply(null, chunk));\n",
              "      yield {\n",
              "        response: {\n",
              "          action: 'append',\n",
              "          file: file.name,\n",
              "          data: base64,\n",
              "        },\n",
              "      };\n",
              "\n",
              "      let percentDone = fileData.byteLength === 0 ?\n",
              "          100 :\n",
              "          Math.round((position / fileData.byteLength) * 100);\n",
              "      percent.textContent = `${percentDone}% done`;\n",
              "\n",
              "    } while (position < fileData.byteLength);\n",
              "  }\n",
              "\n",
              "  // All done.\n",
              "  yield {\n",
              "    response: {\n",
              "      action: 'complete',\n",
              "    }\n",
              "  };\n",
              "}\n",
              "\n",
              "scope.google = scope.google || {};\n",
              "scope.google.colab = scope.google.colab || {};\n",
              "scope.google.colab._files = {\n",
              "  _uploadFiles,\n",
              "  _uploadFilesContinue,\n",
              "};\n",
              "})(self);\n",
              "</script> "
            ]
          },
          "metadata": {}
        },
        {
          "output_type": "stream",
          "name": "stdout",
          "text": [
            "Saving Reference-20250417T102131Z-001.zip to Reference-20250417T102131Z-001.zip\n",
            "✅ All PDFs extracted to /reference_papers\n"
          ]
        }
      ]
    },
    {
      "cell_type": "code",
      "source": [
        "import os\n",
        "import pandas as pd\n",
        "from langchain.embeddings import HuggingFaceEmbeddings\n",
        "from langchain.llms import Ollama\n",
        "from langchain.prompts import PromptTemplate\n",
        "from sentence_transformers import util\n",
        "from PyPDF2 import PdfReader\n",
        "from tqdm import tqdm\n",
        "\n",
        "paper_names = []\n",
        "for i in range(1, 6):\n",
        "    labeled_pdf_dir = \"refernce/Reference/Non-Publishable\"\n",
        "    paper_names.append(f\"{labeled_pdf_dir}/R{str(i).zfill(3)}.pdf\")\n",
        "\n",
        "# Publishable papers: R006 to R015\n",
        "for i in range(6, 16):\n",
        "    labeled_pdf_dir = \"refernce/Reference/Publishable\"\n",
        "    paper_names.append(f\"{labeled_pdf_dir}/R{str(i).zfill(3)}.pdf\")\n",
        "\n",
        "labels = [\"Non-Publishable\"] * 5 + [\"Publishable\"] * 10\n",
        "\n",
        "#paper_names = [f\"R{str(i).zfill(3)}.pdf\" for i in range(1, 16)]\n",
        "#labels = [\"Non-Publishable\"] * 5 + [\"Publishable\"] * 10\n",
        "\n",
        "df = pd.DataFrame({\"Paper_Name\": paper_names, \"Label\": labels})\n",
        "df.to_csv(\"labeled_papers.csv\", index=False)\n",
        "\n",
        "print(\"✅ labeled_papers.csv created!\")\n",
        "\n",
        "# Read labeled CSV\n",
        "labeled_df = pd.read_csv(\"labeled_papers.csv\")\n",
        "\n",
        "# PDF text extraction function\n",
        "def extract_text(file_path):\n",
        "    try:\n",
        "        reader = PdfReader(file_path)\n",
        "        text = \" \".join(page.extract_text() or \"\" for page in reader.pages)\n",
        "        return text.strip()\n",
        "    except Exception as e:\n",
        "        print(f\"❌ Failed to extract from {file_path}: {e}\")\n",
        "        return \"\"\n",
        "\n",
        "# Embed training PDFs\n",
        "print(\"🔧 Embedding labeled papers...\")\n",
        "labeled_texts = []\n",
        "for _, row in labeled_df.iterrows():\n",
        "    file_path = row[\"Paper_Name\"]\n",
        "    text = extract_text(file_path)\n",
        "    labeled_texts.append(text)"
      ],
      "metadata": {
        "colab": {
          "base_uri": "https://localhost:8080/"
        },
        "id": "59URNEVnsgSc",
        "outputId": "d0a6f99a-35c6-49e3-b15e-54365097b722"
      },
      "execution_count": 19,
      "outputs": [
        {
          "output_type": "stream",
          "name": "stdout",
          "text": [
            "✅ labeled_papers.csv created!\n",
            "🔧 Embedding labeled papers...\n"
          ]
        }
      ]
    },
    {
      "cell_type": "code",
      "source": [
        "import os\n",
        "import requests\n",
        "import json\n",
        "import pandas as pd\n",
        "from tqdm import tqdm\n",
        "from sentence_transformers import util\n",
        "from transformers import pipeline\n",
        "from langchain.prompts import PromptTemplate\n",
        "from sentence_transformers import SentenceTransformer\n",
        "\n",
        "# Embedding model setup\n",
        "embedding_model = SentenceTransformer(\"all-MiniLM-L6-v2\")\n",
        "\n",
        "# Embed labeled docs\n",
        "labeled_embeddings = embedding_model.encode(labeled_texts, convert_to_tensor=True)\n",
        "labels = labeled_df[\"Label\"].tolist()\n",
        "\n",
        "# Classify based on cosine similarity\n",
        "def classify(text):\n",
        "    emb = embedding_model.encode(text, convert_to_tensor=True)\n",
        "    scores = util.cos_sim(emb, labeled_embeddings)[0]\n",
        "    best_idx = scores.argmax().item()\n",
        "    return labels[best_idx]\n",
        "\n",
        "# Prompt template\n",
        "justification_prompt = PromptTemplate.from_template(\n",
        "    \"\"\"You are an expert research reviewer.\n",
        "Here is a paper content:\n",
        "\"{paper_text}\"\n",
        "\n",
        "Classify it as \"Publishable\" or \"Non-Publishable\" and give a short justification (max 100 words) for your decision.\n",
        "Be specific and objective.\"\"\"\n",
        ")\n",
        "\n",
        "# Google Cloud API key\n",
        "GOOGLE_API_KEY = \"Enter Your API KEY\"\n",
        "\n",
        "# Call PaLM API (text-bison)\n",
        "def get_justification(text):\n",
        "    prompt = justification_prompt.format(paper_text=text[:4000])\n",
        "    url = f\"https://generativelanguage.googleapis.com/v1beta2/models/text-bison-001:generateText?key={GOOGLE_API_KEY}\"\n",
        "\n",
        "    headers = {\"Content-Type\": \"application/json\"}\n",
        "    data = {\n",
        "        \"prompt\": {\"text\": prompt},\n",
        "        \"temperature\": 0.7,\n",
        "        \"maxOutputTokens\": 200,\n",
        "        \"topP\": 0.8,\n",
        "        \"topK\": 40\n",
        "    }\n",
        "\n",
        "    response = requests.post(url, headers=headers, data=json.dumps(data))\n",
        "    if response.status_code == 200:\n",
        "        return response.json()[\"candidates\"][0][\"output\"].strip()\n",
        "    else:\n",
        "        print(f\"❌ API Error: {response.status_code} - {response.text}\")\n",
        "        return \"Failed to generate justification.\"\n",
        "\n",
        "# Process test papers\n",
        "print(\"🚀 Classifying test papers...\")\n",
        "output = []\n",
        "for paper in tqdm(os.listdir(test_pdf_dir)):\n",
        "    if not paper.endswith(\".pdf\"):\n",
        "        continue\n",
        "    path = os.path.join(test_pdf_dir, paper)\n",
        "    text = extract_text(path)\n",
        "    if not text:\n",
        "        continue\n",
        "    label = classify(text)\n",
        "    justification = get_justification(text)\n",
        "    output.append({\n",
        "        \"Paper_Name\": paper,\n",
        "        \"Classification\": label,\n",
        "        \"Justification\": justification\n",
        "    })\n",
        "\n",
        "# Save results\n",
        "result_df = pd.DataFrame(output)\n",
        "result_df.to_csv(\"test_results.csv\", index=False)\n",
        "print(\"✅ Done! Results saved to test_results.csv\")\n",
        "\n"
      ],
      "metadata": {
        "colab": {
          "base_uri": "https://localhost:8080/"
        },
        "id": "8uo_lHwwycSH",
        "outputId": "3bb05b73-0115-4f4d-ebb3-bec7e49a6108"
      },
      "execution_count": 27,
      "outputs": [
        {
          "output_type": "stream",
          "name": "stdout",
          "text": [
            "🚀 Classifying test papers...\n"
          ]
        },
        {
          "output_type": "stream",
          "name": "stderr",
          "text": [
            "  1%|          | 1/135 [00:01<02:25,  1.09s/it]"
          ]
        },
        {
          "output_type": "stream",
          "name": "stdout",
          "text": [
            "❌ API Error: 404 - {\n",
            "  \"error\": {\n",
            "    \"code\": 404,\n",
            "    \"message\": \"Requested entity was not found.\",\n",
            "    \"status\": \"NOT_FOUND\"\n",
            "  }\n",
            "}\n",
            "\n"
          ]
        },
        {
          "output_type": "stream",
          "name": "stderr",
          "text": [
            "\r  1%|▏         | 2/135 [00:02<02:25,  1.09s/it]"
          ]
        },
        {
          "output_type": "stream",
          "name": "stdout",
          "text": [
            "❌ API Error: 404 - {\n",
            "  \"error\": {\n",
            "    \"code\": 404,\n",
            "    \"message\": \"Requested entity was not found.\",\n",
            "    \"status\": \"NOT_FOUND\"\n",
            "  }\n",
            "}\n",
            "\n"
          ]
        },
        {
          "output_type": "stream",
          "name": "stderr",
          "text": [
            "\r  2%|▏         | 3/135 [00:03<02:25,  1.10s/it]"
          ]
        },
        {
          "output_type": "stream",
          "name": "stdout",
          "text": [
            "❌ API Error: 404 - {\n",
            "  \"error\": {\n",
            "    \"code\": 404,\n",
            "    \"message\": \"Requested entity was not found.\",\n",
            "    \"status\": \"NOT_FOUND\"\n",
            "  }\n",
            "}\n",
            "\n"
          ]
        },
        {
          "output_type": "stream",
          "name": "stderr",
          "text": [
            "\r  3%|▎         | 4/135 [00:04<02:24,  1.11s/it]"
          ]
        },
        {
          "output_type": "stream",
          "name": "stdout",
          "text": [
            "❌ API Error: 404 - {\n",
            "  \"error\": {\n",
            "    \"code\": 404,\n",
            "    \"message\": \"Requested entity was not found.\",\n",
            "    \"status\": \"NOT_FOUND\"\n",
            "  }\n",
            "}\n",
            "\n"
          ]
        },
        {
          "output_type": "stream",
          "name": "stderr",
          "text": [
            "\r  4%|▎         | 5/135 [00:04<01:56,  1.12it/s]"
          ]
        },
        {
          "output_type": "stream",
          "name": "stdout",
          "text": [
            "❌ API Error: 404 - {\n",
            "  \"error\": {\n",
            "    \"code\": 404,\n",
            "    \"message\": \"Requested entity was not found.\",\n",
            "    \"status\": \"NOT_FOUND\"\n",
            "  }\n",
            "}\n",
            "\n"
          ]
        },
        {
          "output_type": "stream",
          "name": "stderr",
          "text": [
            "\r  4%|▍         | 6/135 [00:05<02:02,  1.06it/s]"
          ]
        },
        {
          "output_type": "stream",
          "name": "stdout",
          "text": [
            "❌ API Error: 404 - {\n",
            "  \"error\": {\n",
            "    \"code\": 404,\n",
            "    \"message\": \"Requested entity was not found.\",\n",
            "    \"status\": \"NOT_FOUND\"\n",
            "  }\n",
            "}\n",
            "\n"
          ]
        },
        {
          "output_type": "stream",
          "name": "stderr",
          "text": [
            "\r  5%|▌         | 7/135 [00:07<02:10,  1.02s/it]"
          ]
        },
        {
          "output_type": "stream",
          "name": "stdout",
          "text": [
            "❌ API Error: 404 - {\n",
            "  \"error\": {\n",
            "    \"code\": 404,\n",
            "    \"message\": \"Requested entity was not found.\",\n",
            "    \"status\": \"NOT_FOUND\"\n",
            "  }\n",
            "}\n",
            "\n"
          ]
        },
        {
          "output_type": "stream",
          "name": "stderr",
          "text": [
            "\r  6%|▌         | 8/135 [00:08<02:11,  1.04s/it]"
          ]
        },
        {
          "output_type": "stream",
          "name": "stdout",
          "text": [
            "❌ API Error: 404 - {\n",
            "  \"error\": {\n",
            "    \"code\": 404,\n",
            "    \"message\": \"Requested entity was not found.\",\n",
            "    \"status\": \"NOT_FOUND\"\n",
            "  }\n",
            "}\n",
            "\n"
          ]
        },
        {
          "output_type": "stream",
          "name": "stderr",
          "text": [
            "\r  7%|▋         | 9/135 [00:09<02:10,  1.04s/it]"
          ]
        },
        {
          "output_type": "stream",
          "name": "stdout",
          "text": [
            "❌ API Error: 404 - {\n",
            "  \"error\": {\n",
            "    \"code\": 404,\n",
            "    \"message\": \"Requested entity was not found.\",\n",
            "    \"status\": \"NOT_FOUND\"\n",
            "  }\n",
            "}\n",
            "\n"
          ]
        },
        {
          "output_type": "stream",
          "name": "stderr",
          "text": [
            "\r  7%|▋         | 10/135 [00:10<02:11,  1.06s/it]"
          ]
        },
        {
          "output_type": "stream",
          "name": "stdout",
          "text": [
            "❌ API Error: 404 - {\n",
            "  \"error\": {\n",
            "    \"code\": 404,\n",
            "    \"message\": \"Requested entity was not found.\",\n",
            "    \"status\": \"NOT_FOUND\"\n",
            "  }\n",
            "}\n",
            "\n"
          ]
        },
        {
          "output_type": "stream",
          "name": "stderr",
          "text": [
            "\r  8%|▊         | 11/135 [00:11<02:26,  1.18s/it]"
          ]
        },
        {
          "output_type": "stream",
          "name": "stdout",
          "text": [
            "❌ API Error: 404 - {\n",
            "  \"error\": {\n",
            "    \"code\": 404,\n",
            "    \"message\": \"Requested entity was not found.\",\n",
            "    \"status\": \"NOT_FOUND\"\n",
            "  }\n",
            "}\n",
            "\n"
          ]
        },
        {
          "output_type": "stream",
          "name": "stderr",
          "text": [
            "\r  9%|▉         | 12/135 [00:12<02:18,  1.13s/it]"
          ]
        },
        {
          "output_type": "stream",
          "name": "stdout",
          "text": [
            "❌ API Error: 404 - {\n",
            "  \"error\": {\n",
            "    \"code\": 404,\n",
            "    \"message\": \"Requested entity was not found.\",\n",
            "    \"status\": \"NOT_FOUND\"\n",
            "  }\n",
            "}\n",
            "\n"
          ]
        },
        {
          "output_type": "stream",
          "name": "stderr",
          "text": [
            "\r 10%|▉         | 13/135 [00:13<01:45,  1.15it/s]"
          ]
        },
        {
          "output_type": "stream",
          "name": "stdout",
          "text": [
            "❌ API Error: 404 - {\n",
            "  \"error\": {\n",
            "    \"code\": 404,\n",
            "    \"message\": \"Requested entity was not found.\",\n",
            "    \"status\": \"NOT_FOUND\"\n",
            "  }\n",
            "}\n",
            "\n"
          ]
        },
        {
          "output_type": "stream",
          "name": "stderr",
          "text": [
            "\r 10%|█         | 14/135 [00:13<01:28,  1.37it/s]"
          ]
        },
        {
          "output_type": "stream",
          "name": "stdout",
          "text": [
            "❌ API Error: 404 - {\n",
            "  \"error\": {\n",
            "    \"code\": 404,\n",
            "    \"message\": \"Requested entity was not found.\",\n",
            "    \"status\": \"NOT_FOUND\"\n",
            "  }\n",
            "}\n",
            "\n"
          ]
        },
        {
          "output_type": "stream",
          "name": "stderr",
          "text": [
            "\r 11%|█         | 15/135 [00:14<01:35,  1.26it/s]"
          ]
        },
        {
          "output_type": "stream",
          "name": "stdout",
          "text": [
            "❌ API Error: 404 - {\n",
            "  \"error\": {\n",
            "    \"code\": 404,\n",
            "    \"message\": \"Requested entity was not found.\",\n",
            "    \"status\": \"NOT_FOUND\"\n",
            "  }\n",
            "}\n",
            "\n"
          ]
        },
        {
          "output_type": "stream",
          "name": "stderr",
          "text": [
            "\r 12%|█▏        | 16/135 [00:15<01:45,  1.13it/s]"
          ]
        },
        {
          "output_type": "stream",
          "name": "stdout",
          "text": [
            "❌ API Error: 404 - {\n",
            "  \"error\": {\n",
            "    \"code\": 404,\n",
            "    \"message\": \"Requested entity was not found.\",\n",
            "    \"status\": \"NOT_FOUND\"\n",
            "  }\n",
            "}\n",
            "\n"
          ]
        },
        {
          "output_type": "stream",
          "name": "stderr",
          "text": [
            "\r 13%|█▎        | 17/135 [00:16<01:51,  1.06it/s]"
          ]
        },
        {
          "output_type": "stream",
          "name": "stdout",
          "text": [
            "❌ API Error: 404 - {\n",
            "  \"error\": {\n",
            "    \"code\": 404,\n",
            "    \"message\": \"Requested entity was not found.\",\n",
            "    \"status\": \"NOT_FOUND\"\n",
            "  }\n",
            "}\n",
            "\n"
          ]
        },
        {
          "output_type": "stream",
          "name": "stderr",
          "text": [
            "\r 13%|█▎        | 18/135 [00:17<02:00,  1.03s/it]"
          ]
        },
        {
          "output_type": "stream",
          "name": "stdout",
          "text": [
            "❌ API Error: 404 - {\n",
            "  \"error\": {\n",
            "    \"code\": 404,\n",
            "    \"message\": \"Requested entity was not found.\",\n",
            "    \"status\": \"NOT_FOUND\"\n",
            "  }\n",
            "}\n",
            "\n"
          ]
        },
        {
          "output_type": "stream",
          "name": "stderr",
          "text": [
            "\r 14%|█▍        | 19/135 [00:19<02:05,  1.09s/it]"
          ]
        },
        {
          "output_type": "stream",
          "name": "stdout",
          "text": [
            "❌ API Error: 404 - {\n",
            "  \"error\": {\n",
            "    \"code\": 404,\n",
            "    \"message\": \"Requested entity was not found.\",\n",
            "    \"status\": \"NOT_FOUND\"\n",
            "  }\n",
            "}\n",
            "\n"
          ]
        },
        {
          "output_type": "stream",
          "name": "stderr",
          "text": [
            "\r 15%|█▍        | 20/135 [00:20<02:02,  1.06s/it]"
          ]
        },
        {
          "output_type": "stream",
          "name": "stdout",
          "text": [
            "❌ API Error: 404 - {\n",
            "  \"error\": {\n",
            "    \"code\": 404,\n",
            "    \"message\": \"Requested entity was not found.\",\n",
            "    \"status\": \"NOT_FOUND\"\n",
            "  }\n",
            "}\n",
            "\n"
          ]
        },
        {
          "output_type": "stream",
          "name": "stderr",
          "text": [
            "\r 16%|█▌        | 21/135 [00:21<02:06,  1.11s/it]"
          ]
        },
        {
          "output_type": "stream",
          "name": "stdout",
          "text": [
            "❌ API Error: 404 - {\n",
            "  \"error\": {\n",
            "    \"code\": 404,\n",
            "    \"message\": \"Requested entity was not found.\",\n",
            "    \"status\": \"NOT_FOUND\"\n",
            "  }\n",
            "}\n",
            "\n"
          ]
        },
        {
          "output_type": "stream",
          "name": "stderr",
          "text": [
            "\r 16%|█▋        | 22/135 [00:22<02:12,  1.17s/it]"
          ]
        },
        {
          "output_type": "stream",
          "name": "stdout",
          "text": [
            "❌ API Error: 404 - {\n",
            "  \"error\": {\n",
            "    \"code\": 404,\n",
            "    \"message\": \"Requested entity was not found.\",\n",
            "    \"status\": \"NOT_FOUND\"\n",
            "  }\n",
            "}\n",
            "\n"
          ]
        },
        {
          "output_type": "stream",
          "name": "stderr",
          "text": [
            "\r 17%|█▋        | 23/135 [00:23<02:05,  1.12s/it]"
          ]
        },
        {
          "output_type": "stream",
          "name": "stdout",
          "text": [
            "❌ API Error: 404 - {\n",
            "  \"error\": {\n",
            "    \"code\": 404,\n",
            "    \"message\": \"Requested entity was not found.\",\n",
            "    \"status\": \"NOT_FOUND\"\n",
            "  }\n",
            "}\n",
            "\n"
          ]
        },
        {
          "output_type": "stream",
          "name": "stderr",
          "text": [
            "\r 18%|█▊        | 24/135 [00:24<02:03,  1.11s/it]"
          ]
        },
        {
          "output_type": "stream",
          "name": "stdout",
          "text": [
            "❌ API Error: 404 - {\n",
            "  \"error\": {\n",
            "    \"code\": 404,\n",
            "    \"message\": \"Requested entity was not found.\",\n",
            "    \"status\": \"NOT_FOUND\"\n",
            "  }\n",
            "}\n",
            "\n"
          ]
        },
        {
          "output_type": "stream",
          "name": "stderr",
          "text": [
            "\r 19%|█▊        | 25/135 [00:25<01:40,  1.10it/s]"
          ]
        },
        {
          "output_type": "stream",
          "name": "stdout",
          "text": [
            "❌ API Error: 404 - {\n",
            "  \"error\": {\n",
            "    \"code\": 404,\n",
            "    \"message\": \"Requested entity was not found.\",\n",
            "    \"status\": \"NOT_FOUND\"\n",
            "  }\n",
            "}\n",
            "\n"
          ]
        },
        {
          "output_type": "stream",
          "name": "stderr",
          "text": [
            "\r 19%|█▉        | 26/135 [00:26<01:42,  1.06it/s]"
          ]
        },
        {
          "output_type": "stream",
          "name": "stdout",
          "text": [
            "❌ API Error: 404 - {\n",
            "  \"error\": {\n",
            "    \"code\": 404,\n",
            "    \"message\": \"Requested entity was not found.\",\n",
            "    \"status\": \"NOT_FOUND\"\n",
            "  }\n",
            "}\n",
            "\n"
          ]
        },
        {
          "output_type": "stream",
          "name": "stderr",
          "text": [
            "\r 20%|██        | 27/135 [00:26<01:20,  1.34it/s]"
          ]
        },
        {
          "output_type": "stream",
          "name": "stdout",
          "text": [
            "❌ API Error: 404 - {\n",
            "  \"error\": {\n",
            "    \"code\": 404,\n",
            "    \"message\": \"Requested entity was not found.\",\n",
            "    \"status\": \"NOT_FOUND\"\n",
            "  }\n",
            "}\n",
            "\n"
          ]
        },
        {
          "output_type": "stream",
          "name": "stderr",
          "text": [
            "\r 21%|██        | 28/135 [00:27<01:30,  1.18it/s]"
          ]
        },
        {
          "output_type": "stream",
          "name": "stdout",
          "text": [
            "❌ API Error: 404 - {\n",
            "  \"error\": {\n",
            "    \"code\": 404,\n",
            "    \"message\": \"Requested entity was not found.\",\n",
            "    \"status\": \"NOT_FOUND\"\n",
            "  }\n",
            "}\n",
            "\n"
          ]
        },
        {
          "output_type": "stream",
          "name": "stderr",
          "text": [
            "\r 21%|██▏       | 29/135 [00:27<01:16,  1.39it/s]"
          ]
        },
        {
          "output_type": "stream",
          "name": "stdout",
          "text": [
            "❌ API Error: 404 - {\n",
            "  \"error\": {\n",
            "    \"code\": 404,\n",
            "    \"message\": \"Requested entity was not found.\",\n",
            "    \"status\": \"NOT_FOUND\"\n",
            "  }\n",
            "}\n",
            "\n"
          ]
        },
        {
          "output_type": "stream",
          "name": "stderr",
          "text": [
            "\r 22%|██▏       | 30/135 [00:29<01:27,  1.20it/s]"
          ]
        },
        {
          "output_type": "stream",
          "name": "stdout",
          "text": [
            "❌ API Error: 404 - {\n",
            "  \"error\": {\n",
            "    \"code\": 404,\n",
            "    \"message\": \"Requested entity was not found.\",\n",
            "    \"status\": \"NOT_FOUND\"\n",
            "  }\n",
            "}\n",
            "\n"
          ]
        },
        {
          "output_type": "stream",
          "name": "stderr",
          "text": [
            "\r 23%|██▎       | 31/135 [00:29<01:12,  1.43it/s]"
          ]
        },
        {
          "output_type": "stream",
          "name": "stdout",
          "text": [
            "❌ API Error: 404 - {\n",
            "  \"error\": {\n",
            "    \"code\": 404,\n",
            "    \"message\": \"Requested entity was not found.\",\n",
            "    \"status\": \"NOT_FOUND\"\n",
            "  }\n",
            "}\n",
            "\n"
          ]
        },
        {
          "output_type": "stream",
          "name": "stderr",
          "text": [
            "\r 24%|██▎       | 32/135 [00:29<01:04,  1.59it/s]"
          ]
        },
        {
          "output_type": "stream",
          "name": "stdout",
          "text": [
            "❌ API Error: 404 - {\n",
            "  \"error\": {\n",
            "    \"code\": 404,\n",
            "    \"message\": \"Requested entity was not found.\",\n",
            "    \"status\": \"NOT_FOUND\"\n",
            "  }\n",
            "}\n",
            "\n"
          ]
        },
        {
          "output_type": "stream",
          "name": "stderr",
          "text": [
            "\r 24%|██▍       | 33/135 [00:30<01:17,  1.31it/s]"
          ]
        },
        {
          "output_type": "stream",
          "name": "stdout",
          "text": [
            "❌ API Error: 404 - {\n",
            "  \"error\": {\n",
            "    \"code\": 404,\n",
            "    \"message\": \"Requested entity was not found.\",\n",
            "    \"status\": \"NOT_FOUND\"\n",
            "  }\n",
            "}\n",
            "\n"
          ]
        },
        {
          "output_type": "stream",
          "name": "stderr",
          "text": [
            "\r 25%|██▌       | 34/135 [00:32<01:29,  1.12it/s]"
          ]
        },
        {
          "output_type": "stream",
          "name": "stdout",
          "text": [
            "❌ API Error: 404 - {\n",
            "  \"error\": {\n",
            "    \"code\": 404,\n",
            "    \"message\": \"Requested entity was not found.\",\n",
            "    \"status\": \"NOT_FOUND\"\n",
            "  }\n",
            "}\n",
            "\n"
          ]
        },
        {
          "output_type": "stream",
          "name": "stderr",
          "text": [
            "\r 26%|██▌       | 35/135 [00:32<01:10,  1.41it/s]"
          ]
        },
        {
          "output_type": "stream",
          "name": "stdout",
          "text": [
            "❌ API Error: 404 - {\n",
            "  \"error\": {\n",
            "    \"code\": 404,\n",
            "    \"message\": \"Requested entity was not found.\",\n",
            "    \"status\": \"NOT_FOUND\"\n",
            "  }\n",
            "}\n",
            "\n"
          ]
        },
        {
          "output_type": "stream",
          "name": "stderr",
          "text": [
            "\r 27%|██▋       | 36/135 [00:33<01:06,  1.49it/s]"
          ]
        },
        {
          "output_type": "stream",
          "name": "stdout",
          "text": [
            "❌ API Error: 404 - {\n",
            "  \"error\": {\n",
            "    \"code\": 404,\n",
            "    \"message\": \"Requested entity was not found.\",\n",
            "    \"status\": \"NOT_FOUND\"\n",
            "  }\n",
            "}\n",
            "\n"
          ]
        },
        {
          "output_type": "stream",
          "name": "stderr",
          "text": [
            "\r 27%|██▋       | 37/135 [00:34<01:18,  1.25it/s]"
          ]
        },
        {
          "output_type": "stream",
          "name": "stdout",
          "text": [
            "❌ API Error: 404 - {\n",
            "  \"error\": {\n",
            "    \"code\": 404,\n",
            "    \"message\": \"Requested entity was not found.\",\n",
            "    \"status\": \"NOT_FOUND\"\n",
            "  }\n",
            "}\n",
            "\n"
          ]
        },
        {
          "output_type": "stream",
          "name": "stderr",
          "text": [
            "\r 28%|██▊       | 38/135 [00:35<01:24,  1.15it/s]"
          ]
        },
        {
          "output_type": "stream",
          "name": "stdout",
          "text": [
            "❌ API Error: 404 - {\n",
            "  \"error\": {\n",
            "    \"code\": 404,\n",
            "    \"message\": \"Requested entity was not found.\",\n",
            "    \"status\": \"NOT_FOUND\"\n",
            "  }\n",
            "}\n",
            "\n"
          ]
        },
        {
          "output_type": "stream",
          "name": "stderr",
          "text": [
            "\r 29%|██▉       | 39/135 [00:36<01:27,  1.10it/s]"
          ]
        },
        {
          "output_type": "stream",
          "name": "stdout",
          "text": [
            "❌ API Error: 404 - {\n",
            "  \"error\": {\n",
            "    \"code\": 404,\n",
            "    \"message\": \"Requested entity was not found.\",\n",
            "    \"status\": \"NOT_FOUND\"\n",
            "  }\n",
            "}\n",
            "\n"
          ]
        },
        {
          "output_type": "stream",
          "name": "stderr",
          "text": [
            "\r 30%|██▉       | 40/135 [00:37<01:30,  1.05it/s]"
          ]
        },
        {
          "output_type": "stream",
          "name": "stdout",
          "text": [
            "❌ API Error: 404 - {\n",
            "  \"error\": {\n",
            "    \"code\": 404,\n",
            "    \"message\": \"Requested entity was not found.\",\n",
            "    \"status\": \"NOT_FOUND\"\n",
            "  }\n",
            "}\n",
            "\n"
          ]
        },
        {
          "output_type": "stream",
          "name": "stderr",
          "text": [
            "\r 30%|███       | 41/135 [00:38<01:29,  1.05it/s]"
          ]
        },
        {
          "output_type": "stream",
          "name": "stdout",
          "text": [
            "❌ API Error: 404 - {\n",
            "  \"error\": {\n",
            "    \"code\": 404,\n",
            "    \"message\": \"Requested entity was not found.\",\n",
            "    \"status\": \"NOT_FOUND\"\n",
            "  }\n",
            "}\n",
            "\n"
          ]
        },
        {
          "output_type": "stream",
          "name": "stderr",
          "text": [
            "\r 31%|███       | 42/135 [00:38<01:11,  1.30it/s]"
          ]
        },
        {
          "output_type": "stream",
          "name": "stdout",
          "text": [
            "❌ API Error: 404 - {\n",
            "  \"error\": {\n",
            "    \"code\": 404,\n",
            "    \"message\": \"Requested entity was not found.\",\n",
            "    \"status\": \"NOT_FOUND\"\n",
            "  }\n",
            "}\n",
            "\n"
          ]
        },
        {
          "output_type": "stream",
          "name": "stderr",
          "text": [
            "\r 32%|███▏      | 43/135 [00:39<01:17,  1.19it/s]"
          ]
        },
        {
          "output_type": "stream",
          "name": "stdout",
          "text": [
            "❌ API Error: 404 - {\n",
            "  \"error\": {\n",
            "    \"code\": 404,\n",
            "    \"message\": \"Requested entity was not found.\",\n",
            "    \"status\": \"NOT_FOUND\"\n",
            "  }\n",
            "}\n",
            "\n"
          ]
        },
        {
          "output_type": "stream",
          "name": "stderr",
          "text": [
            "\r 33%|███▎      | 44/135 [00:39<01:03,  1.44it/s]"
          ]
        },
        {
          "output_type": "stream",
          "name": "stdout",
          "text": [
            "❌ API Error: 404 - {\n",
            "  \"error\": {\n",
            "    \"code\": 404,\n",
            "    \"message\": \"Requested entity was not found.\",\n",
            "    \"status\": \"NOT_FOUND\"\n",
            "  }\n",
            "}\n",
            "\n"
          ]
        },
        {
          "output_type": "stream",
          "name": "stderr",
          "text": [
            "\r 33%|███▎      | 45/135 [00:40<01:10,  1.28it/s]"
          ]
        },
        {
          "output_type": "stream",
          "name": "stdout",
          "text": [
            "❌ API Error: 404 - {\n",
            "  \"error\": {\n",
            "    \"code\": 404,\n",
            "    \"message\": \"Requested entity was not found.\",\n",
            "    \"status\": \"NOT_FOUND\"\n",
            "  }\n",
            "}\n",
            "\n"
          ]
        },
        {
          "output_type": "stream",
          "name": "stderr",
          "text": [
            "\r 34%|███▍      | 46/135 [00:41<01:01,  1.45it/s]"
          ]
        },
        {
          "output_type": "stream",
          "name": "stdout",
          "text": [
            "❌ API Error: 404 - {\n",
            "  \"error\": {\n",
            "    \"code\": 404,\n",
            "    \"message\": \"Requested entity was not found.\",\n",
            "    \"status\": \"NOT_FOUND\"\n",
            "  }\n",
            "}\n",
            "\n"
          ]
        },
        {
          "output_type": "stream",
          "name": "stderr",
          "text": [
            "\r 35%|███▍      | 47/135 [00:41<00:54,  1.62it/s]"
          ]
        },
        {
          "output_type": "stream",
          "name": "stdout",
          "text": [
            "❌ API Error: 404 - {\n",
            "  \"error\": {\n",
            "    \"code\": 404,\n",
            "    \"message\": \"Requested entity was not found.\",\n",
            "    \"status\": \"NOT_FOUND\"\n",
            "  }\n",
            "}\n",
            "\n"
          ]
        },
        {
          "output_type": "stream",
          "name": "stderr",
          "text": [
            "\r 36%|███▌      | 48/135 [00:42<00:44,  1.95it/s]"
          ]
        },
        {
          "output_type": "stream",
          "name": "stdout",
          "text": [
            "❌ API Error: 404 - {\n",
            "  \"error\": {\n",
            "    \"code\": 404,\n",
            "    \"message\": \"Requested entity was not found.\",\n",
            "    \"status\": \"NOT_FOUND\"\n",
            "  }\n",
            "}\n",
            "\n"
          ]
        },
        {
          "output_type": "stream",
          "name": "stderr",
          "text": [
            "\r 36%|███▋      | 49/135 [00:43<00:57,  1.49it/s]"
          ]
        },
        {
          "output_type": "stream",
          "name": "stdout",
          "text": [
            "❌ API Error: 404 - {\n",
            "  \"error\": {\n",
            "    \"code\": 404,\n",
            "    \"message\": \"Requested entity was not found.\",\n",
            "    \"status\": \"NOT_FOUND\"\n",
            "  }\n",
            "}\n",
            "\n"
          ]
        },
        {
          "output_type": "stream",
          "name": "stderr",
          "text": [
            "\r 37%|███▋      | 50/135 [00:43<00:47,  1.77it/s]"
          ]
        },
        {
          "output_type": "stream",
          "name": "stdout",
          "text": [
            "❌ API Error: 404 - {\n",
            "  \"error\": {\n",
            "    \"code\": 404,\n",
            "    \"message\": \"Requested entity was not found.\",\n",
            "    \"status\": \"NOT_FOUND\"\n",
            "  }\n",
            "}\n",
            "\n"
          ]
        },
        {
          "output_type": "stream",
          "name": "stderr",
          "text": [
            "\r 38%|███▊      | 51/135 [00:44<00:59,  1.42it/s]"
          ]
        },
        {
          "output_type": "stream",
          "name": "stdout",
          "text": [
            "❌ API Error: 404 - {\n",
            "  \"error\": {\n",
            "    \"code\": 404,\n",
            "    \"message\": \"Requested entity was not found.\",\n",
            "    \"status\": \"NOT_FOUND\"\n",
            "  }\n",
            "}\n",
            "\n"
          ]
        },
        {
          "output_type": "stream",
          "name": "stderr",
          "text": [
            "\r 39%|███▊      | 52/135 [00:45<00:58,  1.42it/s]"
          ]
        },
        {
          "output_type": "stream",
          "name": "stdout",
          "text": [
            "❌ API Error: 404 - {\n",
            "  \"error\": {\n",
            "    \"code\": 404,\n",
            "    \"message\": \"Requested entity was not found.\",\n",
            "    \"status\": \"NOT_FOUND\"\n",
            "  }\n",
            "}\n",
            "\n"
          ]
        },
        {
          "output_type": "stream",
          "name": "stderr",
          "text": [
            "\r 39%|███▉      | 53/135 [00:45<00:52,  1.57it/s]"
          ]
        },
        {
          "output_type": "stream",
          "name": "stdout",
          "text": [
            "❌ API Error: 404 - {\n",
            "  \"error\": {\n",
            "    \"code\": 404,\n",
            "    \"message\": \"Requested entity was not found.\",\n",
            "    \"status\": \"NOT_FOUND\"\n",
            "  }\n",
            "}\n",
            "\n"
          ]
        },
        {
          "output_type": "stream",
          "name": "stderr",
          "text": [
            "\r 40%|████      | 54/135 [00:46<00:46,  1.75it/s]"
          ]
        },
        {
          "output_type": "stream",
          "name": "stdout",
          "text": [
            "❌ API Error: 404 - {\n",
            "  \"error\": {\n",
            "    \"code\": 404,\n",
            "    \"message\": \"Requested entity was not found.\",\n",
            "    \"status\": \"NOT_FOUND\"\n",
            "  }\n",
            "}\n",
            "\n"
          ]
        },
        {
          "output_type": "stream",
          "name": "stderr",
          "text": [
            "\r 41%|████      | 55/135 [00:47<00:56,  1.43it/s]"
          ]
        },
        {
          "output_type": "stream",
          "name": "stdout",
          "text": [
            "❌ API Error: 404 - {\n",
            "  \"error\": {\n",
            "    \"code\": 404,\n",
            "    \"message\": \"Requested entity was not found.\",\n",
            "    \"status\": \"NOT_FOUND\"\n",
            "  }\n",
            "}\n",
            "\n"
          ]
        },
        {
          "output_type": "stream",
          "name": "stderr",
          "text": [
            "\r 41%|████▏     | 56/135 [00:48<01:05,  1.20it/s]"
          ]
        },
        {
          "output_type": "stream",
          "name": "stdout",
          "text": [
            "❌ API Error: 404 - {\n",
            "  \"error\": {\n",
            "    \"code\": 404,\n",
            "    \"message\": \"Requested entity was not found.\",\n",
            "    \"status\": \"NOT_FOUND\"\n",
            "  }\n",
            "}\n",
            "\n"
          ]
        },
        {
          "output_type": "stream",
          "name": "stderr",
          "text": [
            "\r 42%|████▏     | 57/135 [00:49<01:11,  1.09it/s]"
          ]
        },
        {
          "output_type": "stream",
          "name": "stdout",
          "text": [
            "❌ API Error: 404 - {\n",
            "  \"error\": {\n",
            "    \"code\": 404,\n",
            "    \"message\": \"Requested entity was not found.\",\n",
            "    \"status\": \"NOT_FOUND\"\n",
            "  }\n",
            "}\n",
            "\n"
          ]
        },
        {
          "output_type": "stream",
          "name": "stderr",
          "text": [
            "\r 43%|████▎     | 58/135 [00:50<01:13,  1.05it/s]"
          ]
        },
        {
          "output_type": "stream",
          "name": "stdout",
          "text": [
            "❌ API Error: 404 - {\n",
            "  \"error\": {\n",
            "    \"code\": 404,\n",
            "    \"message\": \"Requested entity was not found.\",\n",
            "    \"status\": \"NOT_FOUND\"\n",
            "  }\n",
            "}\n",
            "\n"
          ]
        },
        {
          "output_type": "stream",
          "name": "stderr",
          "text": [
            "\r 44%|████▎     | 59/135 [00:50<00:55,  1.36it/s]"
          ]
        },
        {
          "output_type": "stream",
          "name": "stdout",
          "text": [
            "❌ API Error: 404 - {\n",
            "  \"error\": {\n",
            "    \"code\": 404,\n",
            "    \"message\": \"Requested entity was not found.\",\n",
            "    \"status\": \"NOT_FOUND\"\n",
            "  }\n",
            "}\n",
            "\n"
          ]
        },
        {
          "output_type": "stream",
          "name": "stderr",
          "text": [
            "\r 44%|████▍     | 60/135 [00:50<00:47,  1.59it/s]"
          ]
        },
        {
          "output_type": "stream",
          "name": "stdout",
          "text": [
            "❌ API Error: 404 - {\n",
            "  \"error\": {\n",
            "    \"code\": 404,\n",
            "    \"message\": \"Requested entity was not found.\",\n",
            "    \"status\": \"NOT_FOUND\"\n",
            "  }\n",
            "}\n",
            "\n"
          ]
        },
        {
          "output_type": "stream",
          "name": "stderr",
          "text": [
            "\r 45%|████▌     | 61/135 [00:51<00:38,  1.93it/s]"
          ]
        },
        {
          "output_type": "stream",
          "name": "stdout",
          "text": [
            "❌ API Error: 404 - {\n",
            "  \"error\": {\n",
            "    \"code\": 404,\n",
            "    \"message\": \"Requested entity was not found.\",\n",
            "    \"status\": \"NOT_FOUND\"\n",
            "  }\n",
            "}\n",
            "\n"
          ]
        },
        {
          "output_type": "stream",
          "name": "stderr",
          "text": [
            "\r 46%|████▌     | 62/135 [00:51<00:31,  2.33it/s]"
          ]
        },
        {
          "output_type": "stream",
          "name": "stdout",
          "text": [
            "❌ API Error: 404 - {\n",
            "  \"error\": {\n",
            "    \"code\": 404,\n",
            "    \"message\": \"Requested entity was not found.\",\n",
            "    \"status\": \"NOT_FOUND\"\n",
            "  }\n",
            "}\n",
            "\n"
          ]
        },
        {
          "output_type": "stream",
          "name": "stderr",
          "text": [
            "\r 47%|████▋     | 63/135 [00:52<00:43,  1.65it/s]"
          ]
        },
        {
          "output_type": "stream",
          "name": "stdout",
          "text": [
            "❌ API Error: 404 - {\n",
            "  \"error\": {\n",
            "    \"code\": 404,\n",
            "    \"message\": \"Requested entity was not found.\",\n",
            "    \"status\": \"NOT_FOUND\"\n",
            "  }\n",
            "}\n",
            "\n"
          ]
        },
        {
          "output_type": "stream",
          "name": "stderr",
          "text": [
            "\r 47%|████▋     | 64/135 [00:52<00:39,  1.78it/s]"
          ]
        },
        {
          "output_type": "stream",
          "name": "stdout",
          "text": [
            "❌ API Error: 404 - {\n",
            "  \"error\": {\n",
            "    \"code\": 404,\n",
            "    \"message\": \"Requested entity was not found.\",\n",
            "    \"status\": \"NOT_FOUND\"\n",
            "  }\n",
            "}\n",
            "\n"
          ]
        },
        {
          "output_type": "stream",
          "name": "stderr",
          "text": [
            "\r 48%|████▊     | 65/135 [00:53<00:33,  2.11it/s]"
          ]
        },
        {
          "output_type": "stream",
          "name": "stdout",
          "text": [
            "❌ API Error: 404 - {\n",
            "  \"error\": {\n",
            "    \"code\": 404,\n",
            "    \"message\": \"Requested entity was not found.\",\n",
            "    \"status\": \"NOT_FOUND\"\n",
            "  }\n",
            "}\n",
            "\n"
          ]
        },
        {
          "output_type": "stream",
          "name": "stderr",
          "text": [
            "\r 49%|████▉     | 66/135 [00:54<00:44,  1.56it/s]"
          ]
        },
        {
          "output_type": "stream",
          "name": "stdout",
          "text": [
            "❌ API Error: 404 - {\n",
            "  \"error\": {\n",
            "    \"code\": 404,\n",
            "    \"message\": \"Requested entity was not found.\",\n",
            "    \"status\": \"NOT_FOUND\"\n",
            "  }\n",
            "}\n",
            "\n"
          ]
        },
        {
          "output_type": "stream",
          "name": "stderr",
          "text": [
            "\r 50%|████▉     | 67/135 [00:55<00:51,  1.32it/s]"
          ]
        },
        {
          "output_type": "stream",
          "name": "stdout",
          "text": [
            "❌ API Error: 404 - {\n",
            "  \"error\": {\n",
            "    \"code\": 404,\n",
            "    \"message\": \"Requested entity was not found.\",\n",
            "    \"status\": \"NOT_FOUND\"\n",
            "  }\n",
            "}\n",
            "\n"
          ]
        },
        {
          "output_type": "stream",
          "name": "stderr",
          "text": [
            "\r 50%|█████     | 68/135 [00:55<00:40,  1.65it/s]"
          ]
        },
        {
          "output_type": "stream",
          "name": "stdout",
          "text": [
            "❌ API Error: 404 - {\n",
            "  \"error\": {\n",
            "    \"code\": 404,\n",
            "    \"message\": \"Requested entity was not found.\",\n",
            "    \"status\": \"NOT_FOUND\"\n",
            "  }\n",
            "}\n",
            "\n"
          ]
        },
        {
          "output_type": "stream",
          "name": "stderr",
          "text": [
            "\r 51%|█████     | 69/135 [00:56<00:53,  1.24it/s]"
          ]
        },
        {
          "output_type": "stream",
          "name": "stdout",
          "text": [
            "❌ API Error: 404 - {\n",
            "  \"error\": {\n",
            "    \"code\": 404,\n",
            "    \"message\": \"Requested entity was not found.\",\n",
            "    \"status\": \"NOT_FOUND\"\n",
            "  }\n",
            "}\n",
            "\n"
          ]
        },
        {
          "output_type": "stream",
          "name": "stderr",
          "text": [
            "\r 52%|█████▏    | 70/135 [00:57<00:45,  1.44it/s]"
          ]
        },
        {
          "output_type": "stream",
          "name": "stdout",
          "text": [
            "❌ API Error: 404 - {\n",
            "  \"error\": {\n",
            "    \"code\": 404,\n",
            "    \"message\": \"Requested entity was not found.\",\n",
            "    \"status\": \"NOT_FOUND\"\n",
            "  }\n",
            "}\n",
            "\n"
          ]
        },
        {
          "output_type": "stream",
          "name": "stderr",
          "text": [
            "\r 53%|█████▎    | 71/135 [00:58<00:54,  1.18it/s]"
          ]
        },
        {
          "output_type": "stream",
          "name": "stdout",
          "text": [
            "❌ API Error: 404 - {\n",
            "  \"error\": {\n",
            "    \"code\": 404,\n",
            "    \"message\": \"Requested entity was not found.\",\n",
            "    \"status\": \"NOT_FOUND\"\n",
            "  }\n",
            "}\n",
            "\n"
          ]
        },
        {
          "output_type": "stream",
          "name": "stderr",
          "text": [
            "\r 53%|█████▎    | 72/135 [00:59<00:57,  1.10it/s]"
          ]
        },
        {
          "output_type": "stream",
          "name": "stdout",
          "text": [
            "❌ API Error: 404 - {\n",
            "  \"error\": {\n",
            "    \"code\": 404,\n",
            "    \"message\": \"Requested entity was not found.\",\n",
            "    \"status\": \"NOT_FOUND\"\n",
            "  }\n",
            "}\n",
            "\n"
          ]
        },
        {
          "output_type": "stream",
          "name": "stderr",
          "text": [
            "\r 54%|█████▍    | 73/135 [01:00<00:58,  1.07it/s]"
          ]
        },
        {
          "output_type": "stream",
          "name": "stdout",
          "text": [
            "❌ API Error: 404 - {\n",
            "  \"error\": {\n",
            "    \"code\": 404,\n",
            "    \"message\": \"Requested entity was not found.\",\n",
            "    \"status\": \"NOT_FOUND\"\n",
            "  }\n",
            "}\n",
            "\n"
          ]
        },
        {
          "output_type": "stream",
          "name": "stderr",
          "text": [
            "\r 55%|█████▍    | 74/135 [01:01<00:59,  1.02it/s]"
          ]
        },
        {
          "output_type": "stream",
          "name": "stdout",
          "text": [
            "❌ API Error: 404 - {\n",
            "  \"error\": {\n",
            "    \"code\": 404,\n",
            "    \"message\": \"Requested entity was not found.\",\n",
            "    \"status\": \"NOT_FOUND\"\n",
            "  }\n",
            "}\n",
            "\n"
          ]
        },
        {
          "output_type": "stream",
          "name": "stderr",
          "text": [
            "\r 56%|█████▌    | 75/135 [01:01<00:47,  1.26it/s]"
          ]
        },
        {
          "output_type": "stream",
          "name": "stdout",
          "text": [
            "❌ API Error: 404 - {\n",
            "  \"error\": {\n",
            "    \"code\": 404,\n",
            "    \"message\": \"Requested entity was not found.\",\n",
            "    \"status\": \"NOT_FOUND\"\n",
            "  }\n",
            "}\n",
            "\n"
          ]
        },
        {
          "output_type": "stream",
          "name": "stderr",
          "text": [
            "\r 56%|█████▋    | 76/135 [01:02<00:52,  1.13it/s]"
          ]
        },
        {
          "output_type": "stream",
          "name": "stdout",
          "text": [
            "❌ API Error: 404 - {\n",
            "  \"error\": {\n",
            "    \"code\": 404,\n",
            "    \"message\": \"Requested entity was not found.\",\n",
            "    \"status\": \"NOT_FOUND\"\n",
            "  }\n",
            "}\n",
            "\n"
          ]
        },
        {
          "output_type": "stream",
          "name": "stderr",
          "text": [
            "\r 57%|█████▋    | 77/135 [01:03<00:40,  1.44it/s]"
          ]
        },
        {
          "output_type": "stream",
          "name": "stdout",
          "text": [
            "❌ API Error: 404 - {\n",
            "  \"error\": {\n",
            "    \"code\": 404,\n",
            "    \"message\": \"Requested entity was not found.\",\n",
            "    \"status\": \"NOT_FOUND\"\n",
            "  }\n",
            "}\n",
            "\n"
          ]
        },
        {
          "output_type": "stream",
          "name": "stderr",
          "text": [
            "\r 58%|█████▊    | 78/135 [01:03<00:35,  1.61it/s]"
          ]
        },
        {
          "output_type": "stream",
          "name": "stdout",
          "text": [
            "❌ API Error: 404 - {\n",
            "  \"error\": {\n",
            "    \"code\": 404,\n",
            "    \"message\": \"Requested entity was not found.\",\n",
            "    \"status\": \"NOT_FOUND\"\n",
            "  }\n",
            "}\n",
            "\n"
          ]
        },
        {
          "output_type": "stream",
          "name": "stderr",
          "text": [
            "\r 59%|█████▊    | 79/135 [01:04<00:41,  1.36it/s]"
          ]
        },
        {
          "output_type": "stream",
          "name": "stdout",
          "text": [
            "❌ API Error: 404 - {\n",
            "  \"error\": {\n",
            "    \"code\": 404,\n",
            "    \"message\": \"Requested entity was not found.\",\n",
            "    \"status\": \"NOT_FOUND\"\n",
            "  }\n",
            "}\n",
            "\n"
          ]
        },
        {
          "output_type": "stream",
          "name": "stderr",
          "text": [
            "\r 59%|█████▉    | 80/135 [01:05<00:46,  1.19it/s]"
          ]
        },
        {
          "output_type": "stream",
          "name": "stdout",
          "text": [
            "❌ API Error: 404 - {\n",
            "  \"error\": {\n",
            "    \"code\": 404,\n",
            "    \"message\": \"Requested entity was not found.\",\n",
            "    \"status\": \"NOT_FOUND\"\n",
            "  }\n",
            "}\n",
            "\n"
          ]
        },
        {
          "output_type": "stream",
          "name": "stderr",
          "text": [
            "\r 60%|██████    | 81/135 [01:06<00:48,  1.12it/s]"
          ]
        },
        {
          "output_type": "stream",
          "name": "stdout",
          "text": [
            "❌ API Error: 404 - {\n",
            "  \"error\": {\n",
            "    \"code\": 404,\n",
            "    \"message\": \"Requested entity was not found.\",\n",
            "    \"status\": \"NOT_FOUND\"\n",
            "  }\n",
            "}\n",
            "\n"
          ]
        },
        {
          "output_type": "stream",
          "name": "stderr",
          "text": [
            "\r 61%|██████    | 82/135 [01:08<00:52,  1.01it/s]"
          ]
        },
        {
          "output_type": "stream",
          "name": "stdout",
          "text": [
            "❌ API Error: 404 - {\n",
            "  \"error\": {\n",
            "    \"code\": 404,\n",
            "    \"message\": \"Requested entity was not found.\",\n",
            "    \"status\": \"NOT_FOUND\"\n",
            "  }\n",
            "}\n",
            "\n"
          ]
        },
        {
          "output_type": "stream",
          "name": "stderr",
          "text": [
            "\r 61%|██████▏   | 83/135 [01:09<00:54,  1.06s/it]"
          ]
        },
        {
          "output_type": "stream",
          "name": "stdout",
          "text": [
            "❌ API Error: 404 - {\n",
            "  \"error\": {\n",
            "    \"code\": 404,\n",
            "    \"message\": \"Requested entity was not found.\",\n",
            "    \"status\": \"NOT_FOUND\"\n",
            "  }\n",
            "}\n",
            "\n"
          ]
        },
        {
          "output_type": "stream",
          "name": "stderr",
          "text": [
            "\r 62%|██████▏   | 84/135 [01:09<00:41,  1.24it/s]"
          ]
        },
        {
          "output_type": "stream",
          "name": "stdout",
          "text": [
            "❌ API Error: 404 - {\n",
            "  \"error\": {\n",
            "    \"code\": 404,\n",
            "    \"message\": \"Requested entity was not found.\",\n",
            "    \"status\": \"NOT_FOUND\"\n",
            "  }\n",
            "}\n",
            "\n"
          ]
        },
        {
          "output_type": "stream",
          "name": "stderr",
          "text": [
            "\r 63%|██████▎   | 85/135 [01:10<00:44,  1.14it/s]"
          ]
        },
        {
          "output_type": "stream",
          "name": "stdout",
          "text": [
            "❌ API Error: 404 - {\n",
            "  \"error\": {\n",
            "    \"code\": 404,\n",
            "    \"message\": \"Requested entity was not found.\",\n",
            "    \"status\": \"NOT_FOUND\"\n",
            "  }\n",
            "}\n",
            "\n"
          ]
        },
        {
          "output_type": "stream",
          "name": "stderr",
          "text": [
            "\r 64%|██████▎   | 86/135 [01:11<00:45,  1.07it/s]"
          ]
        },
        {
          "output_type": "stream",
          "name": "stdout",
          "text": [
            "❌ API Error: 404 - {\n",
            "  \"error\": {\n",
            "    \"code\": 404,\n",
            "    \"message\": \"Requested entity was not found.\",\n",
            "    \"status\": \"NOT_FOUND\"\n",
            "  }\n",
            "}\n",
            "\n"
          ]
        },
        {
          "output_type": "stream",
          "name": "stderr",
          "text": [
            "\r 64%|██████▍   | 87/135 [01:11<00:35,  1.36it/s]"
          ]
        },
        {
          "output_type": "stream",
          "name": "stdout",
          "text": [
            "❌ API Error: 404 - {\n",
            "  \"error\": {\n",
            "    \"code\": 404,\n",
            "    \"message\": \"Requested entity was not found.\",\n",
            "    \"status\": \"NOT_FOUND\"\n",
            "  }\n",
            "}\n",
            "\n"
          ]
        },
        {
          "output_type": "stream",
          "name": "stderr",
          "text": [
            "\r 65%|██████▌   | 88/135 [01:12<00:40,  1.16it/s]"
          ]
        },
        {
          "output_type": "stream",
          "name": "stdout",
          "text": [
            "❌ API Error: 404 - {\n",
            "  \"error\": {\n",
            "    \"code\": 404,\n",
            "    \"message\": \"Requested entity was not found.\",\n",
            "    \"status\": \"NOT_FOUND\"\n",
            "  }\n",
            "}\n",
            "\n"
          ]
        },
        {
          "output_type": "stream",
          "name": "stderr",
          "text": [
            "\r 66%|██████▌   | 89/135 [01:13<00:31,  1.48it/s]"
          ]
        },
        {
          "output_type": "stream",
          "name": "stdout",
          "text": [
            "❌ API Error: 404 - {\n",
            "  \"error\": {\n",
            "    \"code\": 404,\n",
            "    \"message\": \"Requested entity was not found.\",\n",
            "    \"status\": \"NOT_FOUND\"\n",
            "  }\n",
            "}\n",
            "\n"
          ]
        },
        {
          "output_type": "stream",
          "name": "stderr",
          "text": [
            "\r 67%|██████▋   | 90/135 [01:13<00:25,  1.76it/s]"
          ]
        },
        {
          "output_type": "stream",
          "name": "stdout",
          "text": [
            "❌ API Error: 404 - {\n",
            "  \"error\": {\n",
            "    \"code\": 404,\n",
            "    \"message\": \"Requested entity was not found.\",\n",
            "    \"status\": \"NOT_FOUND\"\n",
            "  }\n",
            "}\n",
            "\n"
          ]
        },
        {
          "output_type": "stream",
          "name": "stderr",
          "text": [
            "\r 67%|██████▋   | 91/135 [01:14<00:31,  1.38it/s]"
          ]
        },
        {
          "output_type": "stream",
          "name": "stdout",
          "text": [
            "❌ API Error: 404 - {\n",
            "  \"error\": {\n",
            "    \"code\": 404,\n",
            "    \"message\": \"Requested entity was not found.\",\n",
            "    \"status\": \"NOT_FOUND\"\n",
            "  }\n",
            "}\n",
            "\n"
          ]
        },
        {
          "output_type": "stream",
          "name": "stderr",
          "text": [
            "\r 68%|██████▊   | 92/135 [01:15<00:35,  1.23it/s]"
          ]
        },
        {
          "output_type": "stream",
          "name": "stdout",
          "text": [
            "❌ API Error: 404 - {\n",
            "  \"error\": {\n",
            "    \"code\": 404,\n",
            "    \"message\": \"Requested entity was not found.\",\n",
            "    \"status\": \"NOT_FOUND\"\n",
            "  }\n",
            "}\n",
            "\n"
          ]
        },
        {
          "output_type": "stream",
          "name": "stderr",
          "text": [
            "\r 69%|██████▉   | 93/135 [01:16<00:37,  1.13it/s]"
          ]
        },
        {
          "output_type": "stream",
          "name": "stdout",
          "text": [
            "❌ API Error: 404 - {\n",
            "  \"error\": {\n",
            "    \"code\": 404,\n",
            "    \"message\": \"Requested entity was not found.\",\n",
            "    \"status\": \"NOT_FOUND\"\n",
            "  }\n",
            "}\n",
            "\n"
          ]
        },
        {
          "output_type": "stream",
          "name": "stderr",
          "text": [
            "\r 70%|██████▉   | 94/135 [01:17<00:38,  1.08it/s]"
          ]
        },
        {
          "output_type": "stream",
          "name": "stdout",
          "text": [
            "❌ API Error: 404 - {\n",
            "  \"error\": {\n",
            "    \"code\": 404,\n",
            "    \"message\": \"Requested entity was not found.\",\n",
            "    \"status\": \"NOT_FOUND\"\n",
            "  }\n",
            "}\n",
            "\n"
          ]
        },
        {
          "output_type": "stream",
          "name": "stderr",
          "text": [
            "\r 70%|███████   | 95/135 [01:18<00:38,  1.05it/s]"
          ]
        },
        {
          "output_type": "stream",
          "name": "stdout",
          "text": [
            "❌ API Error: 404 - {\n",
            "  \"error\": {\n",
            "    \"code\": 404,\n",
            "    \"message\": \"Requested entity was not found.\",\n",
            "    \"status\": \"NOT_FOUND\"\n",
            "  }\n",
            "}\n",
            "\n"
          ]
        },
        {
          "output_type": "stream",
          "name": "stderr",
          "text": [
            "\r 71%|███████   | 96/135 [01:19<00:37,  1.03it/s]"
          ]
        },
        {
          "output_type": "stream",
          "name": "stdout",
          "text": [
            "❌ API Error: 404 - {\n",
            "  \"error\": {\n",
            "    \"code\": 404,\n",
            "    \"message\": \"Requested entity was not found.\",\n",
            "    \"status\": \"NOT_FOUND\"\n",
            "  }\n",
            "}\n",
            "\n"
          ]
        },
        {
          "output_type": "stream",
          "name": "stderr",
          "text": [
            "\r 72%|███████▏  | 97/135 [01:21<00:43,  1.15s/it]"
          ]
        },
        {
          "output_type": "stream",
          "name": "stdout",
          "text": [
            "❌ API Error: 404 - {\n",
            "  \"error\": {\n",
            "    \"code\": 404,\n",
            "    \"message\": \"Requested entity was not found.\",\n",
            "    \"status\": \"NOT_FOUND\"\n",
            "  }\n",
            "}\n",
            "\n"
          ]
        },
        {
          "output_type": "stream",
          "name": "stderr",
          "text": [
            "\r 73%|███████▎  | 98/135 [01:22<00:41,  1.13s/it]"
          ]
        },
        {
          "output_type": "stream",
          "name": "stdout",
          "text": [
            "❌ API Error: 404 - {\n",
            "  \"error\": {\n",
            "    \"code\": 404,\n",
            "    \"message\": \"Requested entity was not found.\",\n",
            "    \"status\": \"NOT_FOUND\"\n",
            "  }\n",
            "}\n",
            "\n"
          ]
        },
        {
          "output_type": "stream",
          "name": "stderr",
          "text": [
            "\r 73%|███████▎  | 99/135 [01:22<00:31,  1.15it/s]"
          ]
        },
        {
          "output_type": "stream",
          "name": "stdout",
          "text": [
            "❌ API Error: 404 - {\n",
            "  \"error\": {\n",
            "    \"code\": 404,\n",
            "    \"message\": \"Requested entity was not found.\",\n",
            "    \"status\": \"NOT_FOUND\"\n",
            "  }\n",
            "}\n",
            "\n"
          ]
        },
        {
          "output_type": "stream",
          "name": "stderr",
          "text": [
            "\r 74%|███████▍  | 100/135 [01:23<00:32,  1.07it/s]"
          ]
        },
        {
          "output_type": "stream",
          "name": "stdout",
          "text": [
            "❌ API Error: 404 - {\n",
            "  \"error\": {\n",
            "    \"code\": 404,\n",
            "    \"message\": \"Requested entity was not found.\",\n",
            "    \"status\": \"NOT_FOUND\"\n",
            "  }\n",
            "}\n",
            "\n"
          ]
        },
        {
          "output_type": "stream",
          "name": "stderr",
          "text": [
            "\r 75%|███████▍  | 101/135 [01:24<00:32,  1.04it/s]"
          ]
        },
        {
          "output_type": "stream",
          "name": "stdout",
          "text": [
            "❌ API Error: 404 - {\n",
            "  \"error\": {\n",
            "    \"code\": 404,\n",
            "    \"message\": \"Requested entity was not found.\",\n",
            "    \"status\": \"NOT_FOUND\"\n",
            "  }\n",
            "}\n",
            "\n"
          ]
        },
        {
          "output_type": "stream",
          "name": "stderr",
          "text": [
            "\r 76%|███████▌  | 102/135 [01:25<00:34,  1.04s/it]"
          ]
        },
        {
          "output_type": "stream",
          "name": "stdout",
          "text": [
            "❌ API Error: 404 - {\n",
            "  \"error\": {\n",
            "    \"code\": 404,\n",
            "    \"message\": \"Requested entity was not found.\",\n",
            "    \"status\": \"NOT_FOUND\"\n",
            "  }\n",
            "}\n",
            "\n"
          ]
        },
        {
          "output_type": "stream",
          "name": "stderr",
          "text": [
            "\r 76%|███████▋  | 103/135 [01:26<00:26,  1.23it/s]"
          ]
        },
        {
          "output_type": "stream",
          "name": "stdout",
          "text": [
            "❌ API Error: 404 - {\n",
            "  \"error\": {\n",
            "    \"code\": 404,\n",
            "    \"message\": \"Requested entity was not found.\",\n",
            "    \"status\": \"NOT_FOUND\"\n",
            "  }\n",
            "}\n",
            "\n"
          ]
        },
        {
          "output_type": "stream",
          "name": "stderr",
          "text": [
            "\r 77%|███████▋  | 104/135 [01:26<00:20,  1.50it/s]"
          ]
        },
        {
          "output_type": "stream",
          "name": "stdout",
          "text": [
            "❌ API Error: 404 - {\n",
            "  \"error\": {\n",
            "    \"code\": 404,\n",
            "    \"message\": \"Requested entity was not found.\",\n",
            "    \"status\": \"NOT_FOUND\"\n",
            "  }\n",
            "}\n",
            "\n"
          ]
        },
        {
          "output_type": "stream",
          "name": "stderr",
          "text": [
            "\r 78%|███████▊  | 105/135 [01:27<00:23,  1.26it/s]"
          ]
        },
        {
          "output_type": "stream",
          "name": "stdout",
          "text": [
            "❌ API Error: 404 - {\n",
            "  \"error\": {\n",
            "    \"code\": 404,\n",
            "    \"message\": \"Requested entity was not found.\",\n",
            "    \"status\": \"NOT_FOUND\"\n",
            "  }\n",
            "}\n",
            "\n"
          ]
        },
        {
          "output_type": "stream",
          "name": "stderr",
          "text": [
            "\r 79%|███████▊  | 106/135 [01:28<00:25,  1.16it/s]"
          ]
        },
        {
          "output_type": "stream",
          "name": "stdout",
          "text": [
            "❌ API Error: 404 - {\n",
            "  \"error\": {\n",
            "    \"code\": 404,\n",
            "    \"message\": \"Requested entity was not found.\",\n",
            "    \"status\": \"NOT_FOUND\"\n",
            "  }\n",
            "}\n",
            "\n"
          ]
        },
        {
          "output_type": "stream",
          "name": "stderr",
          "text": [
            "\r 79%|███████▉  | 107/135 [01:29<00:19,  1.40it/s]"
          ]
        },
        {
          "output_type": "stream",
          "name": "stdout",
          "text": [
            "❌ API Error: 404 - {\n",
            "  \"error\": {\n",
            "    \"code\": 404,\n",
            "    \"message\": \"Requested entity was not found.\",\n",
            "    \"status\": \"NOT_FOUND\"\n",
            "  }\n",
            "}\n",
            "\n"
          ]
        },
        {
          "output_type": "stream",
          "name": "stderr",
          "text": [
            "\r 80%|████████  | 108/135 [01:29<00:15,  1.76it/s]"
          ]
        },
        {
          "output_type": "stream",
          "name": "stdout",
          "text": [
            "❌ API Error: 404 - {\n",
            "  \"error\": {\n",
            "    \"code\": 404,\n",
            "    \"message\": \"Requested entity was not found.\",\n",
            "    \"status\": \"NOT_FOUND\"\n",
            "  }\n",
            "}\n",
            "\n"
          ]
        },
        {
          "output_type": "stream",
          "name": "stderr",
          "text": [
            "\r 81%|████████  | 109/135 [01:30<00:18,  1.38it/s]"
          ]
        },
        {
          "output_type": "stream",
          "name": "stdout",
          "text": [
            "❌ API Error: 404 - {\n",
            "  \"error\": {\n",
            "    \"code\": 404,\n",
            "    \"message\": \"Requested entity was not found.\",\n",
            "    \"status\": \"NOT_FOUND\"\n",
            "  }\n",
            "}\n",
            "\n"
          ]
        },
        {
          "output_type": "stream",
          "name": "stderr",
          "text": [
            "\r 81%|████████▏ | 110/135 [01:31<00:20,  1.23it/s]"
          ]
        },
        {
          "output_type": "stream",
          "name": "stdout",
          "text": [
            "❌ API Error: 404 - {\n",
            "  \"error\": {\n",
            "    \"code\": 404,\n",
            "    \"message\": \"Requested entity was not found.\",\n",
            "    \"status\": \"NOT_FOUND\"\n",
            "  }\n",
            "}\n",
            "\n"
          ]
        },
        {
          "output_type": "stream",
          "name": "stderr",
          "text": [
            "\r 82%|████████▏ | 111/135 [01:32<00:21,  1.12it/s]"
          ]
        },
        {
          "output_type": "stream",
          "name": "stdout",
          "text": [
            "❌ API Error: 404 - {\n",
            "  \"error\": {\n",
            "    \"code\": 404,\n",
            "    \"message\": \"Requested entity was not found.\",\n",
            "    \"status\": \"NOT_FOUND\"\n",
            "  }\n",
            "}\n",
            "\n"
          ]
        },
        {
          "output_type": "stream",
          "name": "stderr",
          "text": [
            "\r 83%|████████▎ | 112/135 [01:32<00:16,  1.41it/s]"
          ]
        },
        {
          "output_type": "stream",
          "name": "stdout",
          "text": [
            "❌ API Error: 404 - {\n",
            "  \"error\": {\n",
            "    \"code\": 404,\n",
            "    \"message\": \"Requested entity was not found.\",\n",
            "    \"status\": \"NOT_FOUND\"\n",
            "  }\n",
            "}\n",
            "\n"
          ]
        },
        {
          "output_type": "stream",
          "name": "stderr",
          "text": [
            "\r 84%|████████▎ | 113/135 [01:33<00:13,  1.62it/s]"
          ]
        },
        {
          "output_type": "stream",
          "name": "stdout",
          "text": [
            "❌ API Error: 404 - {\n",
            "  \"error\": {\n",
            "    \"code\": 404,\n",
            "    \"message\": \"Requested entity was not found.\",\n",
            "    \"status\": \"NOT_FOUND\"\n",
            "  }\n",
            "}\n",
            "\n"
          ]
        },
        {
          "output_type": "stream",
          "name": "stderr",
          "text": [
            "\r 84%|████████▍ | 114/135 [01:34<00:15,  1.35it/s]"
          ]
        },
        {
          "output_type": "stream",
          "name": "stdout",
          "text": [
            "❌ API Error: 404 - {\n",
            "  \"error\": {\n",
            "    \"code\": 404,\n",
            "    \"message\": \"Requested entity was not found.\",\n",
            "    \"status\": \"NOT_FOUND\"\n",
            "  }\n",
            "}\n",
            "\n"
          ]
        },
        {
          "output_type": "stream",
          "name": "stderr",
          "text": [
            "\r 85%|████████▌ | 115/135 [01:34<00:12,  1.64it/s]"
          ]
        },
        {
          "output_type": "stream",
          "name": "stdout",
          "text": [
            "❌ API Error: 404 - {\n",
            "  \"error\": {\n",
            "    \"code\": 404,\n",
            "    \"message\": \"Requested entity was not found.\",\n",
            "    \"status\": \"NOT_FOUND\"\n",
            "  }\n",
            "}\n",
            "\n"
          ]
        },
        {
          "output_type": "stream",
          "name": "stderr",
          "text": [
            "\r 86%|████████▌ | 116/135 [01:35<00:14,  1.34it/s]"
          ]
        },
        {
          "output_type": "stream",
          "name": "stdout",
          "text": [
            "❌ API Error: 404 - {\n",
            "  \"error\": {\n",
            "    \"code\": 404,\n",
            "    \"message\": \"Requested entity was not found.\",\n",
            "    \"status\": \"NOT_FOUND\"\n",
            "  }\n",
            "}\n",
            "\n"
          ]
        },
        {
          "output_type": "stream",
          "name": "stderr",
          "text": [
            "\r 87%|████████▋ | 117/135 [01:36<00:15,  1.19it/s]"
          ]
        },
        {
          "output_type": "stream",
          "name": "stdout",
          "text": [
            "❌ API Error: 404 - {\n",
            "  \"error\": {\n",
            "    \"code\": 404,\n",
            "    \"message\": \"Requested entity was not found.\",\n",
            "    \"status\": \"NOT_FOUND\"\n",
            "  }\n",
            "}\n",
            "\n"
          ]
        },
        {
          "output_type": "stream",
          "name": "stderr",
          "text": [
            "\r 87%|████████▋ | 118/135 [01:37<00:15,  1.07it/s]"
          ]
        },
        {
          "output_type": "stream",
          "name": "stdout",
          "text": [
            "❌ API Error: 404 - {\n",
            "  \"error\": {\n",
            "    \"code\": 404,\n",
            "    \"message\": \"Requested entity was not found.\",\n",
            "    \"status\": \"NOT_FOUND\"\n",
            "  }\n",
            "}\n",
            "\n"
          ]
        },
        {
          "output_type": "stream",
          "name": "stderr",
          "text": [
            "\r 88%|████████▊ | 119/135 [01:38<00:15,  1.05it/s]"
          ]
        },
        {
          "output_type": "stream",
          "name": "stdout",
          "text": [
            "❌ API Error: 404 - {\n",
            "  \"error\": {\n",
            "    \"code\": 404,\n",
            "    \"message\": \"Requested entity was not found.\",\n",
            "    \"status\": \"NOT_FOUND\"\n",
            "  }\n",
            "}\n",
            "\n"
          ]
        },
        {
          "output_type": "stream",
          "name": "stderr",
          "text": [
            "\r 89%|████████▉ | 120/135 [01:39<00:12,  1.24it/s]"
          ]
        },
        {
          "output_type": "stream",
          "name": "stdout",
          "text": [
            "❌ API Error: 404 - {\n",
            "  \"error\": {\n",
            "    \"code\": 404,\n",
            "    \"message\": \"Requested entity was not found.\",\n",
            "    \"status\": \"NOT_FOUND\"\n",
            "  }\n",
            "}\n",
            "\n"
          ]
        },
        {
          "output_type": "stream",
          "name": "stderr",
          "text": [
            "\r 90%|████████▉ | 121/135 [01:40<00:12,  1.16it/s]"
          ]
        },
        {
          "output_type": "stream",
          "name": "stdout",
          "text": [
            "❌ API Error: 404 - {\n",
            "  \"error\": {\n",
            "    \"code\": 404,\n",
            "    \"message\": \"Requested entity was not found.\",\n",
            "    \"status\": \"NOT_FOUND\"\n",
            "  }\n",
            "}\n",
            "\n"
          ]
        },
        {
          "output_type": "stream",
          "name": "stderr",
          "text": [
            "\r 90%|█████████ | 122/135 [01:40<00:09,  1.36it/s]"
          ]
        },
        {
          "output_type": "stream",
          "name": "stdout",
          "text": [
            "❌ API Error: 404 - {\n",
            "  \"error\": {\n",
            "    \"code\": 404,\n",
            "    \"message\": \"Requested entity was not found.\",\n",
            "    \"status\": \"NOT_FOUND\"\n",
            "  }\n",
            "}\n",
            "\n"
          ]
        },
        {
          "output_type": "stream",
          "name": "stderr",
          "text": [
            "\r 91%|█████████ | 123/135 [01:41<00:09,  1.24it/s]"
          ]
        },
        {
          "output_type": "stream",
          "name": "stdout",
          "text": [
            "❌ API Error: 404 - {\n",
            "  \"error\": {\n",
            "    \"code\": 404,\n",
            "    \"message\": \"Requested entity was not found.\",\n",
            "    \"status\": \"NOT_FOUND\"\n",
            "  }\n",
            "}\n",
            "\n"
          ]
        },
        {
          "output_type": "stream",
          "name": "stderr",
          "text": [
            "\r 92%|█████████▏| 124/135 [01:42<00:09,  1.14it/s]"
          ]
        },
        {
          "output_type": "stream",
          "name": "stdout",
          "text": [
            "❌ API Error: 404 - {\n",
            "  \"error\": {\n",
            "    \"code\": 404,\n",
            "    \"message\": \"Requested entity was not found.\",\n",
            "    \"status\": \"NOT_FOUND\"\n",
            "  }\n",
            "}\n",
            "\n"
          ]
        },
        {
          "output_type": "stream",
          "name": "stderr",
          "text": [
            "\r 93%|█████████▎| 125/135 [01:43<00:07,  1.41it/s]"
          ]
        },
        {
          "output_type": "stream",
          "name": "stdout",
          "text": [
            "❌ API Error: 404 - {\n",
            "  \"error\": {\n",
            "    \"code\": 404,\n",
            "    \"message\": \"Requested entity was not found.\",\n",
            "    \"status\": \"NOT_FOUND\"\n",
            "  }\n",
            "}\n",
            "\n"
          ]
        },
        {
          "output_type": "stream",
          "name": "stderr",
          "text": [
            "\r 93%|█████████▎| 126/135 [01:44<00:08,  1.07it/s]"
          ]
        },
        {
          "output_type": "stream",
          "name": "stdout",
          "text": [
            "❌ API Error: 404 - {\n",
            "  \"error\": {\n",
            "    \"code\": 404,\n",
            "    \"message\": \"Requested entity was not found.\",\n",
            "    \"status\": \"NOT_FOUND\"\n",
            "  }\n",
            "}\n",
            "\n"
          ]
        },
        {
          "output_type": "stream",
          "name": "stderr",
          "text": [
            "\r 94%|█████████▍| 127/135 [01:45<00:08,  1.02s/it]"
          ]
        },
        {
          "output_type": "stream",
          "name": "stdout",
          "text": [
            "❌ API Error: 404 - {\n",
            "  \"error\": {\n",
            "    \"code\": 404,\n",
            "    \"message\": \"Requested entity was not found.\",\n",
            "    \"status\": \"NOT_FOUND\"\n",
            "  }\n",
            "}\n",
            "\n"
          ]
        },
        {
          "output_type": "stream",
          "name": "stderr",
          "text": [
            "\r 95%|█████████▍| 128/135 [01:46<00:07,  1.07s/it]"
          ]
        },
        {
          "output_type": "stream",
          "name": "stdout",
          "text": [
            "❌ API Error: 404 - {\n",
            "  \"error\": {\n",
            "    \"code\": 404,\n",
            "    \"message\": \"Requested entity was not found.\",\n",
            "    \"status\": \"NOT_FOUND\"\n",
            "  }\n",
            "}\n",
            "\n"
          ]
        },
        {
          "output_type": "stream",
          "name": "stderr",
          "text": [
            "\r 96%|█████████▌| 129/135 [01:48<00:06,  1.11s/it]"
          ]
        },
        {
          "output_type": "stream",
          "name": "stdout",
          "text": [
            "❌ API Error: 404 - {\n",
            "  \"error\": {\n",
            "    \"code\": 404,\n",
            "    \"message\": \"Requested entity was not found.\",\n",
            "    \"status\": \"NOT_FOUND\"\n",
            "  }\n",
            "}\n",
            "\n"
          ]
        },
        {
          "output_type": "stream",
          "name": "stderr",
          "text": [
            "\r 96%|█████████▋| 130/135 [01:49<00:05,  1.08s/it]"
          ]
        },
        {
          "output_type": "stream",
          "name": "stdout",
          "text": [
            "❌ API Error: 404 - {\n",
            "  \"error\": {\n",
            "    \"code\": 404,\n",
            "    \"message\": \"Requested entity was not found.\",\n",
            "    \"status\": \"NOT_FOUND\"\n",
            "  }\n",
            "}\n",
            "\n"
          ]
        },
        {
          "output_type": "stream",
          "name": "stderr",
          "text": [
            "\r 97%|█████████▋| 131/135 [01:50<00:04,  1.12s/it]"
          ]
        },
        {
          "output_type": "stream",
          "name": "stdout",
          "text": [
            "❌ API Error: 404 - {\n",
            "  \"error\": {\n",
            "    \"code\": 404,\n",
            "    \"message\": \"Requested entity was not found.\",\n",
            "    \"status\": \"NOT_FOUND\"\n",
            "  }\n",
            "}\n",
            "\n"
          ]
        },
        {
          "output_type": "stream",
          "name": "stderr",
          "text": [
            "\r 98%|█████████▊| 132/135 [01:51<00:03,  1.09s/it]"
          ]
        },
        {
          "output_type": "stream",
          "name": "stdout",
          "text": [
            "❌ API Error: 404 - {\n",
            "  \"error\": {\n",
            "    \"code\": 404,\n",
            "    \"message\": \"Requested entity was not found.\",\n",
            "    \"status\": \"NOT_FOUND\"\n",
            "  }\n",
            "}\n",
            "\n"
          ]
        },
        {
          "output_type": "stream",
          "name": "stderr",
          "text": [
            "\r 99%|█████████▊| 133/135 [01:51<00:01,  1.19it/s]"
          ]
        },
        {
          "output_type": "stream",
          "name": "stdout",
          "text": [
            "❌ API Error: 404 - {\n",
            "  \"error\": {\n",
            "    \"code\": 404,\n",
            "    \"message\": \"Requested entity was not found.\",\n",
            "    \"status\": \"NOT_FOUND\"\n",
            "  }\n",
            "}\n",
            "\n"
          ]
        },
        {
          "output_type": "stream",
          "name": "stderr",
          "text": [
            "\r 99%|█████████▉| 134/135 [01:52<00:00,  1.10it/s]"
          ]
        },
        {
          "output_type": "stream",
          "name": "stdout",
          "text": [
            "❌ API Error: 404 - {\n",
            "  \"error\": {\n",
            "    \"code\": 404,\n",
            "    \"message\": \"Requested entity was not found.\",\n",
            "    \"status\": \"NOT_FOUND\"\n",
            "  }\n",
            "}\n",
            "\n"
          ]
        },
        {
          "output_type": "stream",
          "name": "stderr",
          "text": [
            "100%|██████████| 135/135 [01:54<00:00,  1.18it/s]"
          ]
        },
        {
          "output_type": "stream",
          "name": "stdout",
          "text": [
            "❌ API Error: 404 - {\n",
            "  \"error\": {\n",
            "    \"code\": 404,\n",
            "    \"message\": \"Requested entity was not found.\",\n",
            "    \"status\": \"NOT_FOUND\"\n",
            "  }\n",
            "}\n",
            "\n",
            "✅ Done! Results saved to test_results.csv\n"
          ]
        },
        {
          "output_type": "stream",
          "name": "stderr",
          "text": [
            "\n"
          ]
        }
      ]
    },
    {
      "cell_type": "code",
      "source": [],
      "metadata": {
        "id": "CM8aFZQK6qp2"
      },
      "execution_count": null,
      "outputs": []
    }
  ]
}